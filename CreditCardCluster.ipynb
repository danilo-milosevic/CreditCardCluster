{
 "cells": [
  {
   "cell_type": "markdown",
   "id": "a9674f94-60e6-402f-bd6a-182c32edaf26",
   "metadata": {},
   "source": [
    "# Imports"
   ]
  },
  {
   "cell_type": "code",
   "execution_count": 1,
   "id": "a9b8b898-0709-4a2a-92d9-036ec26125dd",
   "metadata": {},
   "outputs": [],
   "source": [
    "# %matplotlib notebook"
   ]
  },
  {
   "cell_type": "code",
   "execution_count": 2,
   "id": "ad0be8a5-d3d6-426d-a123-3307ed540da6",
   "metadata": {},
   "outputs": [
    {
     "name": "stdout",
     "output_type": "stream",
     "text": [
      "Requirement already satisfied: umap-learn in c:\\users\\danilo\\appdata\\local\\programs\\python\\python312\\lib\\site-packages (0.5.5)\n",
      "Requirement already satisfied: numpy>=1.17 in c:\\users\\danilo\\appdata\\local\\programs\\python\\python312\\lib\\site-packages (from umap-learn) (1.26.3)\n",
      "Requirement already satisfied: scipy>=1.3.1 in c:\\users\\danilo\\appdata\\local\\programs\\python\\python312\\lib\\site-packages (from umap-learn) (1.11.4)\n",
      "Requirement already satisfied: scikit-learn>=0.22 in c:\\users\\danilo\\appdata\\local\\programs\\python\\python312\\lib\\site-packages (from umap-learn) (1.3.2)\n",
      "Requirement already satisfied: numba>=0.51.2 in c:\\users\\danilo\\appdata\\local\\programs\\python\\python312\\lib\\site-packages (from umap-learn) (0.59.0)\n",
      "Requirement already satisfied: pynndescent>=0.5 in c:\\users\\danilo\\appdata\\local\\programs\\python\\python312\\lib\\site-packages (from umap-learn) (0.5.11)\n",
      "Requirement already satisfied: tqdm in c:\\users\\danilo\\appdata\\local\\programs\\python\\python312\\lib\\site-packages (from umap-learn) (4.66.2)\n",
      "Requirement already satisfied: llvmlite<0.43,>=0.42.0dev0 in c:\\users\\danilo\\appdata\\local\\programs\\python\\python312\\lib\\site-packages (from numba>=0.51.2->umap-learn) (0.42.0)\n",
      "Requirement already satisfied: joblib>=0.11 in c:\\users\\danilo\\appdata\\local\\programs\\python\\python312\\lib\\site-packages (from pynndescent>=0.5->umap-learn) (1.3.2)\n",
      "Requirement already satisfied: threadpoolctl>=2.0.0 in c:\\users\\danilo\\appdata\\local\\programs\\python\\python312\\lib\\site-packages (from scikit-learn>=0.22->umap-learn) (3.2.0)\n",
      "Requirement already satisfied: colorama in c:\\users\\danilo\\appdata\\local\\programs\\python\\python312\\lib\\site-packages (from tqdm->umap-learn) (0.4.6)\n"
     ]
    },
    {
     "name": "stderr",
     "output_type": "stream",
     "text": [
      "\n",
      "[notice] A new release of pip is available: 23.3.2 -> 24.0\n",
      "[notice] To update, run: python.exe -m pip install --upgrade pip\n"
     ]
    }
   ],
   "source": [
    "!pip install umap-learn"
   ]
  },
  {
   "cell_type": "code",
   "execution_count": 3,
   "id": "a2c7a617-d243-4664-9dbc-6e119c66655b",
   "metadata": {},
   "outputs": [],
   "source": [
    "import numpy as np\n",
    "import time\n",
    "import seaborn as sns\n",
    "import matplotlib.pyplot as plt\n",
    "import csv\n",
    "import pandas as pd\n",
    "from sklearn.preprocessing import LabelEncoder, StandardScaler\n",
    "from sklearn.manifold import TSNE\n",
    "\n",
    "from sklearn.neighbors import LocalOutlierFactor as LOF\n",
    "from sklearn.ensemble import IsolationForest as IF\n",
    "from sklearn.manifold import LocallyLinearEmbedding,MDS,Isomap\n",
    "from sklearn.random_projection import GaussianRandomProjection\n",
    "from sklearn.decomposition import PCA\n",
    "from sklearn.metrics import mean_squared_error, silhouette_score\n",
    "\n",
    "import umap\n",
    "from ipywidgets import interact\n",
    "\n",
    "from sklearn.cluster import KMeans, AffinityPropagation, MeanShift, SpectralClustering, AgglomerativeClustering, HDBSCAN\n",
    "from sklearn.mixture import GaussianMixture\n"
   ]
  },
  {
   "cell_type": "markdown",
   "id": "ba2a4c89",
   "metadata": {},
   "source": [
    "https://www.kaggle.com/datasets/ghoshsaibal/creditcard"
   ]
  },
  {
   "cell_type": "markdown",
   "id": "cda99ba5-d025-47ae-85ec-c736359f69ac",
   "metadata": {},
   "source": [
    "# Analiza"
   ]
  },
  {
   "cell_type": "markdown",
   "id": "d562d39e-ea77-4933-8695-a512d14967e1",
   "metadata": {},
   "source": [
    "## Ucitavanje podataka"
   ]
  },
  {
   "cell_type": "code",
   "execution_count": 4,
   "id": "d2133fec-2963-4a15-9f75-15a13c9b101b",
   "metadata": {},
   "outputs": [],
   "source": [
    "def csv_to_pd(path):\n",
    "    return pd.read_csv(path)\n",
    "\n",
    "def pandas_uniques(df, col_name):\n",
    "    counts = df[col_name].value_counts()\n",
    "    unique = df[col_name].unique()\n",
    "    return unique,counts\n",
    "\n",
    "def print_uniques(df, cols, count_per_categ=False):\n",
    "    for c in cols:\n",
    "        print()\n",
    "        print(c)\n",
    "        print(\"-----------------\")\n",
    "        u, b = pandas_uniques(df,c)\n",
    "        print(\"\\tVrednosti: \",u)\n",
    "        print(\"\\tBroj jedinstvenih: \",len(u))\n",
    "    \n",
    "        if not count_per_categ: continue\n",
    "        print(\"\\tJedinstvenih:\")\n",
    "        for i in range(len(b)):\n",
    "            print(\"\\t\",b.iloc[i])"
   ]
  },
  {
   "cell_type": "code",
   "execution_count": 5,
   "id": "b03f0ebe-53da-4c78-bbe2-557dd99017e3",
   "metadata": {},
   "outputs": [],
   "source": [
    "applications = csv_to_pd(\"./data/application_record.csv\")\n",
    "credits = csv_to_pd(\"./data/credit_record.csv\")"
   ]
  },
  {
   "cell_type": "code",
   "execution_count": 6,
   "id": "b14793c1-5895-4392-9fc0-2c1c8ab14a85",
   "metadata": {},
   "outputs": [
    {
     "name": "stdout",
     "output_type": "stream",
     "text": [
      "<class 'pandas.core.frame.DataFrame'>\n",
      "RangeIndex: 438557 entries, 0 to 438556\n",
      "Data columns (total 18 columns):\n",
      " #   Column               Non-Null Count   Dtype  \n",
      "---  ------               --------------   -----  \n",
      " 0   ID                   438557 non-null  int64  \n",
      " 1   CODE_GENDER          438557 non-null  object \n",
      " 2   FLAG_OWN_CAR         438557 non-null  object \n",
      " 3   FLAG_OWN_REALTY      438557 non-null  object \n",
      " 4   CNT_CHILDREN         438557 non-null  int64  \n",
      " 5   AMT_INCOME_TOTAL     438557 non-null  float64\n",
      " 6   NAME_INCOME_TYPE     438557 non-null  object \n",
      " 7   NAME_EDUCATION_TYPE  438557 non-null  object \n",
      " 8   NAME_FAMILY_STATUS   438557 non-null  object \n",
      " 9   NAME_HOUSING_TYPE    438557 non-null  object \n",
      " 10  DAYS_BIRTH           438557 non-null  int64  \n",
      " 11  DAYS_EMPLOYED        438557 non-null  int64  \n",
      " 12  FLAG_MOBIL           438557 non-null  int64  \n",
      " 13  FLAG_WORK_PHONE      438557 non-null  int64  \n",
      " 14  FLAG_PHONE           438557 non-null  int64  \n",
      " 15  FLAG_EMAIL           438557 non-null  int64  \n",
      " 16  OCCUPATION_TYPE      304354 non-null  object \n",
      " 17  CNT_FAM_MEMBERS      438557 non-null  float64\n",
      "dtypes: float64(2), int64(8), object(8)\n",
      "memory usage: 60.2+ MB\n"
     ]
    }
   ],
   "source": [
    "applications.info()"
   ]
  },
  {
   "cell_type": "code",
   "execution_count": 7,
   "id": "39db0644-d3db-4e78-a5d8-e9eaa2ad8818",
   "metadata": {},
   "outputs": [
    {
     "name": "stdout",
     "output_type": "stream",
     "text": [
      "\n",
      "CODE_GENDER\n",
      "-----------------\n",
      "\tVrednosti:  ['M' 'F']\n",
      "\tBroj jedinstvenih:  2\n",
      "\n",
      "FLAG_OWN_CAR\n",
      "-----------------\n",
      "\tVrednosti:  ['Y' 'N']\n",
      "\tBroj jedinstvenih:  2\n",
      "\n",
      "FLAG_OWN_REALTY\n",
      "-----------------\n",
      "\tVrednosti:  ['Y' 'N']\n",
      "\tBroj jedinstvenih:  2\n",
      "\n",
      "NAME_INCOME_TYPE\n",
      "-----------------\n",
      "\tVrednosti:  ['Working' 'Commercial associate' 'Pensioner' 'State servant' 'Student']\n",
      "\tBroj jedinstvenih:  5\n",
      "\n",
      "NAME_EDUCATION_TYPE\n",
      "-----------------\n",
      "\tVrednosti:  ['Higher education' 'Secondary / secondary special' 'Incomplete higher'\n",
      " 'Lower secondary' 'Academic degree']\n",
      "\tBroj jedinstvenih:  5\n",
      "\n",
      "NAME_FAMILY_STATUS\n",
      "-----------------\n",
      "\tVrednosti:  ['Civil marriage' 'Married' 'Single / not married' 'Separated' 'Widow']\n",
      "\tBroj jedinstvenih:  5\n",
      "\n",
      "NAME_HOUSING_TYPE\n",
      "-----------------\n",
      "\tVrednosti:  ['Rented apartment' 'House / apartment' 'Municipal apartment'\n",
      " 'With parents' 'Co-op apartment' 'Office apartment']\n",
      "\tBroj jedinstvenih:  6\n",
      "\n",
      "OCCUPATION_TYPE\n",
      "-----------------\n",
      "\tVrednosti:  [nan 'Security staff' 'Sales staff' 'Accountants' 'Laborers' 'Managers'\n",
      " 'Drivers' 'Core staff' 'High skill tech staff' 'Cleaning staff'\n",
      " 'Private service staff' 'Cooking staff' 'Low-skill Laborers'\n",
      " 'Medicine staff' 'Secretaries' 'Waiters/barmen staff' 'HR staff'\n",
      " 'Realty agents' 'IT staff']\n",
      "\tBroj jedinstvenih:  19\n"
     ]
    }
   ],
   "source": [
    "cols = ['CODE_GENDER','FLAG_OWN_CAR','FLAG_OWN_REALTY', 'NAME_INCOME_TYPE', 'NAME_EDUCATION_TYPE', 'NAME_FAMILY_STATUS',\\\n",
    "        'NAME_HOUSING_TYPE', 'OCCUPATION_TYPE']\\\n",
    "\n",
    "print_uniques(applications,cols)"
   ]
  },
  {
   "cell_type": "code",
   "execution_count": 8,
   "id": "bade08a5-3f3d-48b9-a9aa-969b9b0ebdce",
   "metadata": {
    "scrolled": true
   },
   "outputs": [
    {
     "name": "stdout",
     "output_type": "stream",
     "text": [
      "<class 'pandas.core.frame.DataFrame'>\n",
      "RangeIndex: 1048575 entries, 0 to 1048574\n",
      "Data columns (total 3 columns):\n",
      " #   Column          Non-Null Count    Dtype \n",
      "---  ------          --------------    ----- \n",
      " 0   ID              1048575 non-null  int64 \n",
      " 1   MONTHS_BALANCE  1048575 non-null  int64 \n",
      " 2   STATUS          1048575 non-null  object\n",
      "dtypes: int64(2), object(1)\n",
      "memory usage: 24.0+ MB\n"
     ]
    }
   ],
   "source": [
    "credits.info()"
   ]
  },
  {
   "cell_type": "code",
   "execution_count": 9,
   "id": "4b9b2a67-449b-4757-a89c-44062aefb00c",
   "metadata": {},
   "outputs": [
    {
     "name": "stdout",
     "output_type": "stream",
     "text": [
      "\n",
      "STATUS\n",
      "-----------------\n",
      "\tVrednosti:  ['X' '0' 'C' '1' '2' '3' '4' '5']\n",
      "\tBroj jedinstvenih:  8\n"
     ]
    }
   ],
   "source": [
    "cols = ['STATUS']\n",
    "print_uniques(credits,cols)"
   ]
  },
  {
   "cell_type": "markdown",
   "id": "5823f26c-642b-444e-bc4b-25e6f2f1c470",
   "metadata": {},
   "source": [
    "## Enkodiranje"
   ]
  },
  {
   "cell_type": "code",
   "execution_count": 10,
   "id": "a249b525-77f5-4259-9464-9da1cb5fcdfc",
   "metadata": {},
   "outputs": [],
   "source": [
    "def encode_column(df, col_spec):\n",
    "    df_enc = df.copy()\n",
    "    for (c, is_one_hot) in col_spec:\n",
    "        if is_one_hot:\n",
    "            df_enc = pd.get_dummies(df_enc, columns=[c], dtype=int)\n",
    "            continue\n",
    "        le = LabelEncoder()\n",
    "        le.fit(df_enc[c])\n",
    "        df_enc[c] = le.transform(df_enc[c])\n",
    "    return df_enc\n",
    "\n",
    "def encode_with_dict(df, col, enc_dict):\n",
    "    df_enc = df.copy()\n",
    "    df_enc[col] = df_enc[col].apply(lambda x: enc_dict[x])\n",
    "    return df_enc"
   ]
  },
  {
   "cell_type": "code",
   "execution_count": 11,
   "id": "241508c7-06f3-481e-a977-21ab627bdc74",
   "metadata": {},
   "outputs": [],
   "source": [
    "cols = [('CODE_GENDER',False),\\\n",
    "        ('FLAG_OWN_CAR',False),\\\n",
    "        ('FLAG_OWN_REALTY',False),\\\n",
    "        ('NAME_INCOME_TYPE',True),\\\n",
    "        ('NAME_EDUCATION_TYPE',False),\\\n",
    "        ('NAME_FAMILY_STATUS', True),\\\n",
    "        ('NAME_HOUSING_TYPE',True),\\\n",
    "        ('OCCUPATION_TYPE',True)]\n",
    "applications = encode_column(applications, cols)\n",
    "\n",
    "enc_dict = {'X':-2, 'C':-1, '0':0, '1':1, '2':2, '3':3, '4':4, '5':5}\n",
    "cred_enc = encode_with_dict(credits, 'STATUS', enc_dict)"
   ]
  },
  {
   "cell_type": "markdown",
   "id": "bf2633f1",
   "metadata": {
    "jp-MarkdownHeadingCollapsed": true
   },
   "source": [
    "## Feature Engineering"
   ]
  },
  {
   "cell_type": "code",
   "execution_count": 12,
   "id": "11ebdb33",
   "metadata": {},
   "outputs": [
    {
     "data": {
      "text/html": [
       "<div>\n",
       "<style scoped>\n",
       "    .dataframe tbody tr th:only-of-type {\n",
       "        vertical-align: middle;\n",
       "    }\n",
       "\n",
       "    .dataframe tbody tr th {\n",
       "        vertical-align: top;\n",
       "    }\n",
       "\n",
       "    .dataframe thead th {\n",
       "        text-align: right;\n",
       "    }\n",
       "</style>\n",
       "<table border=\"1\" class=\"dataframe\">\n",
       "  <thead>\n",
       "    <tr style=\"text-align: right;\">\n",
       "      <th></th>\n",
       "      <th>ID</th>\n",
       "      <th>CODE_GENDER</th>\n",
       "      <th>FLAG_OWN_CAR</th>\n",
       "      <th>FLAG_OWN_REALTY</th>\n",
       "      <th>CNT_CHILDREN</th>\n",
       "      <th>AMT_INCOME_TOTAL</th>\n",
       "      <th>NAME_EDUCATION_TYPE</th>\n",
       "      <th>DAYS_BIRTH</th>\n",
       "      <th>DAYS_EMPLOYED</th>\n",
       "      <th>FLAG_MOBIL</th>\n",
       "      <th>...</th>\n",
       "      <th>OCCUPATION_TYPE_Laborers</th>\n",
       "      <th>OCCUPATION_TYPE_Low-skill Laborers</th>\n",
       "      <th>OCCUPATION_TYPE_Managers</th>\n",
       "      <th>OCCUPATION_TYPE_Medicine staff</th>\n",
       "      <th>OCCUPATION_TYPE_Private service staff</th>\n",
       "      <th>OCCUPATION_TYPE_Realty agents</th>\n",
       "      <th>OCCUPATION_TYPE_Sales staff</th>\n",
       "      <th>OCCUPATION_TYPE_Secretaries</th>\n",
       "      <th>OCCUPATION_TYPE_Security staff</th>\n",
       "      <th>OCCUPATION_TYPE_Waiters/barmen staff</th>\n",
       "    </tr>\n",
       "  </thead>\n",
       "  <tbody>\n",
       "    <tr>\n",
       "      <th>count</th>\n",
       "      <td>4.385570e+05</td>\n",
       "      <td>438557.000000</td>\n",
       "      <td>438557.000000</td>\n",
       "      <td>438557.000000</td>\n",
       "      <td>438557.000000</td>\n",
       "      <td>4.385570e+05</td>\n",
       "      <td>438557.000000</td>\n",
       "      <td>438557.000000</td>\n",
       "      <td>438557.000000</td>\n",
       "      <td>438557.0</td>\n",
       "      <td>...</td>\n",
       "      <td>438557.000000</td>\n",
       "      <td>438557.000000</td>\n",
       "      <td>438557.000000</td>\n",
       "      <td>438557.000000</td>\n",
       "      <td>438557.000000</td>\n",
       "      <td>438557.000000</td>\n",
       "      <td>438557.000000</td>\n",
       "      <td>438557.000000</td>\n",
       "      <td>438557.000000</td>\n",
       "      <td>438557.000000</td>\n",
       "    </tr>\n",
       "    <tr>\n",
       "      <th>mean</th>\n",
       "      <td>6.022176e+06</td>\n",
       "      <td>0.328616</td>\n",
       "      <td>0.371897</td>\n",
       "      <td>0.693351</td>\n",
       "      <td>0.427390</td>\n",
       "      <td>1.875243e+05</td>\n",
       "      <td>3.116268</td>\n",
       "      <td>-15997.904649</td>\n",
       "      <td>60563.675328</td>\n",
       "      <td>1.0</td>\n",
       "      <td>...</td>\n",
       "      <td>0.178403</td>\n",
       "      <td>0.004880</td>\n",
       "      <td>0.080918</td>\n",
       "      <td>0.030828</td>\n",
       "      <td>0.007880</td>\n",
       "      <td>0.002374</td>\n",
       "      <td>0.093712</td>\n",
       "      <td>0.004661</td>\n",
       "      <td>0.018226</td>\n",
       "      <td>0.003797</td>\n",
       "    </tr>\n",
       "    <tr>\n",
       "      <th>std</th>\n",
       "      <td>5.716370e+05</td>\n",
       "      <td>0.469711</td>\n",
       "      <td>0.483312</td>\n",
       "      <td>0.461103</td>\n",
       "      <td>0.724882</td>\n",
       "      <td>1.100869e+05</td>\n",
       "      <td>1.336736</td>\n",
       "      <td>4185.030007</td>\n",
       "      <td>138767.799647</td>\n",
       "      <td>0.0</td>\n",
       "      <td>...</td>\n",
       "      <td>0.382852</td>\n",
       "      <td>0.069684</td>\n",
       "      <td>0.272709</td>\n",
       "      <td>0.172853</td>\n",
       "      <td>0.088421</td>\n",
       "      <td>0.048663</td>\n",
       "      <td>0.291428</td>\n",
       "      <td>0.068110</td>\n",
       "      <td>0.133767</td>\n",
       "      <td>0.061499</td>\n",
       "    </tr>\n",
       "    <tr>\n",
       "      <th>min</th>\n",
       "      <td>5.008804e+06</td>\n",
       "      <td>0.000000</td>\n",
       "      <td>0.000000</td>\n",
       "      <td>0.000000</td>\n",
       "      <td>0.000000</td>\n",
       "      <td>2.610000e+04</td>\n",
       "      <td>0.000000</td>\n",
       "      <td>-25201.000000</td>\n",
       "      <td>-17531.000000</td>\n",
       "      <td>1.0</td>\n",
       "      <td>...</td>\n",
       "      <td>0.000000</td>\n",
       "      <td>0.000000</td>\n",
       "      <td>0.000000</td>\n",
       "      <td>0.000000</td>\n",
       "      <td>0.000000</td>\n",
       "      <td>0.000000</td>\n",
       "      <td>0.000000</td>\n",
       "      <td>0.000000</td>\n",
       "      <td>0.000000</td>\n",
       "      <td>0.000000</td>\n",
       "    </tr>\n",
       "    <tr>\n",
       "      <th>25%</th>\n",
       "      <td>5.609375e+06</td>\n",
       "      <td>0.000000</td>\n",
       "      <td>0.000000</td>\n",
       "      <td>0.000000</td>\n",
       "      <td>0.000000</td>\n",
       "      <td>1.215000e+05</td>\n",
       "      <td>1.000000</td>\n",
       "      <td>-19483.000000</td>\n",
       "      <td>-3103.000000</td>\n",
       "      <td>1.0</td>\n",
       "      <td>...</td>\n",
       "      <td>0.000000</td>\n",
       "      <td>0.000000</td>\n",
       "      <td>0.000000</td>\n",
       "      <td>0.000000</td>\n",
       "      <td>0.000000</td>\n",
       "      <td>0.000000</td>\n",
       "      <td>0.000000</td>\n",
       "      <td>0.000000</td>\n",
       "      <td>0.000000</td>\n",
       "      <td>0.000000</td>\n",
       "    </tr>\n",
       "    <tr>\n",
       "      <th>50%</th>\n",
       "      <td>6.047745e+06</td>\n",
       "      <td>0.000000</td>\n",
       "      <td>0.000000</td>\n",
       "      <td>1.000000</td>\n",
       "      <td>0.000000</td>\n",
       "      <td>1.607805e+05</td>\n",
       "      <td>4.000000</td>\n",
       "      <td>-15630.000000</td>\n",
       "      <td>-1467.000000</td>\n",
       "      <td>1.0</td>\n",
       "      <td>...</td>\n",
       "      <td>0.000000</td>\n",
       "      <td>0.000000</td>\n",
       "      <td>0.000000</td>\n",
       "      <td>0.000000</td>\n",
       "      <td>0.000000</td>\n",
       "      <td>0.000000</td>\n",
       "      <td>0.000000</td>\n",
       "      <td>0.000000</td>\n",
       "      <td>0.000000</td>\n",
       "      <td>0.000000</td>\n",
       "    </tr>\n",
       "    <tr>\n",
       "      <th>75%</th>\n",
       "      <td>6.456971e+06</td>\n",
       "      <td>1.000000</td>\n",
       "      <td>1.000000</td>\n",
       "      <td>1.000000</td>\n",
       "      <td>1.000000</td>\n",
       "      <td>2.250000e+05</td>\n",
       "      <td>4.000000</td>\n",
       "      <td>-12514.000000</td>\n",
       "      <td>-371.000000</td>\n",
       "      <td>1.0</td>\n",
       "      <td>...</td>\n",
       "      <td>0.000000</td>\n",
       "      <td>0.000000</td>\n",
       "      <td>0.000000</td>\n",
       "      <td>0.000000</td>\n",
       "      <td>0.000000</td>\n",
       "      <td>0.000000</td>\n",
       "      <td>0.000000</td>\n",
       "      <td>0.000000</td>\n",
       "      <td>0.000000</td>\n",
       "      <td>0.000000</td>\n",
       "    </tr>\n",
       "    <tr>\n",
       "      <th>max</th>\n",
       "      <td>7.999952e+06</td>\n",
       "      <td>1.000000</td>\n",
       "      <td>1.000000</td>\n",
       "      <td>1.000000</td>\n",
       "      <td>19.000000</td>\n",
       "      <td>6.750000e+06</td>\n",
       "      <td>4.000000</td>\n",
       "      <td>-7489.000000</td>\n",
       "      <td>365243.000000</td>\n",
       "      <td>1.0</td>\n",
       "      <td>...</td>\n",
       "      <td>1.000000</td>\n",
       "      <td>1.000000</td>\n",
       "      <td>1.000000</td>\n",
       "      <td>1.000000</td>\n",
       "      <td>1.000000</td>\n",
       "      <td>1.000000</td>\n",
       "      <td>1.000000</td>\n",
       "      <td>1.000000</td>\n",
       "      <td>1.000000</td>\n",
       "      <td>1.000000</td>\n",
       "    </tr>\n",
       "  </tbody>\n",
       "</table>\n",
       "<p>8 rows × 48 columns</p>\n",
       "</div>"
      ],
      "text/plain": [
       "                 ID    CODE_GENDER   FLAG_OWN_CAR  FLAG_OWN_REALTY  \\\n",
       "count  4.385570e+05  438557.000000  438557.000000    438557.000000   \n",
       "mean   6.022176e+06       0.328616       0.371897         0.693351   \n",
       "std    5.716370e+05       0.469711       0.483312         0.461103   \n",
       "min    5.008804e+06       0.000000       0.000000         0.000000   \n",
       "25%    5.609375e+06       0.000000       0.000000         0.000000   \n",
       "50%    6.047745e+06       0.000000       0.000000         1.000000   \n",
       "75%    6.456971e+06       1.000000       1.000000         1.000000   \n",
       "max    7.999952e+06       1.000000       1.000000         1.000000   \n",
       "\n",
       "        CNT_CHILDREN  AMT_INCOME_TOTAL  NAME_EDUCATION_TYPE     DAYS_BIRTH  \\\n",
       "count  438557.000000      4.385570e+05        438557.000000  438557.000000   \n",
       "mean        0.427390      1.875243e+05             3.116268  -15997.904649   \n",
       "std         0.724882      1.100869e+05             1.336736    4185.030007   \n",
       "min         0.000000      2.610000e+04             0.000000  -25201.000000   \n",
       "25%         0.000000      1.215000e+05             1.000000  -19483.000000   \n",
       "50%         0.000000      1.607805e+05             4.000000  -15630.000000   \n",
       "75%         1.000000      2.250000e+05             4.000000  -12514.000000   \n",
       "max        19.000000      6.750000e+06             4.000000   -7489.000000   \n",
       "\n",
       "       DAYS_EMPLOYED  FLAG_MOBIL  ...  OCCUPATION_TYPE_Laborers  \\\n",
       "count  438557.000000    438557.0  ...             438557.000000   \n",
       "mean    60563.675328         1.0  ...                  0.178403   \n",
       "std    138767.799647         0.0  ...                  0.382852   \n",
       "min    -17531.000000         1.0  ...                  0.000000   \n",
       "25%     -3103.000000         1.0  ...                  0.000000   \n",
       "50%     -1467.000000         1.0  ...                  0.000000   \n",
       "75%      -371.000000         1.0  ...                  0.000000   \n",
       "max    365243.000000         1.0  ...                  1.000000   \n",
       "\n",
       "       OCCUPATION_TYPE_Low-skill Laborers  OCCUPATION_TYPE_Managers  \\\n",
       "count                       438557.000000             438557.000000   \n",
       "mean                             0.004880                  0.080918   \n",
       "std                              0.069684                  0.272709   \n",
       "min                              0.000000                  0.000000   \n",
       "25%                              0.000000                  0.000000   \n",
       "50%                              0.000000                  0.000000   \n",
       "75%                              0.000000                  0.000000   \n",
       "max                              1.000000                  1.000000   \n",
       "\n",
       "       OCCUPATION_TYPE_Medicine staff  OCCUPATION_TYPE_Private service staff  \\\n",
       "count                   438557.000000                          438557.000000   \n",
       "mean                         0.030828                               0.007880   \n",
       "std                          0.172853                               0.088421   \n",
       "min                          0.000000                               0.000000   \n",
       "25%                          0.000000                               0.000000   \n",
       "50%                          0.000000                               0.000000   \n",
       "75%                          0.000000                               0.000000   \n",
       "max                          1.000000                               1.000000   \n",
       "\n",
       "       OCCUPATION_TYPE_Realty agents  OCCUPATION_TYPE_Sales staff  \\\n",
       "count                  438557.000000                438557.000000   \n",
       "mean                        0.002374                     0.093712   \n",
       "std                         0.048663                     0.291428   \n",
       "min                         0.000000                     0.000000   \n",
       "25%                         0.000000                     0.000000   \n",
       "50%                         0.000000                     0.000000   \n",
       "75%                         0.000000                     0.000000   \n",
       "max                         1.000000                     1.000000   \n",
       "\n",
       "       OCCUPATION_TYPE_Secretaries  OCCUPATION_TYPE_Security staff  \\\n",
       "count                438557.000000                   438557.000000   \n",
       "mean                      0.004661                        0.018226   \n",
       "std                       0.068110                        0.133767   \n",
       "min                       0.000000                        0.000000   \n",
       "25%                       0.000000                        0.000000   \n",
       "50%                       0.000000                        0.000000   \n",
       "75%                       0.000000                        0.000000   \n",
       "max                       1.000000                        1.000000   \n",
       "\n",
       "       OCCUPATION_TYPE_Waiters/barmen staff  \n",
       "count                         438557.000000  \n",
       "mean                               0.003797  \n",
       "std                                0.061499  \n",
       "min                                0.000000  \n",
       "25%                                0.000000  \n",
       "50%                                0.000000  \n",
       "75%                                0.000000  \n",
       "max                                1.000000  \n",
       "\n",
       "[8 rows x 48 columns]"
      ]
     },
     "execution_count": 12,
     "metadata": {},
     "output_type": "execute_result"
    }
   ],
   "source": [
    "applications.describe()"
   ]
  },
  {
   "cell_type": "code",
   "execution_count": 13,
   "id": "0cd168c9",
   "metadata": {},
   "outputs": [],
   "source": [
    "# Podelimo zaradu u grupe \n",
    "# 20 - 260k na po 20k, sve preko je jedna grupa\n",
    "def get_bucket(number, bucket_size, max_value, red_one):\n",
    "    number = min(number,max_value)\n",
    "    s = number//bucket_size\n",
    "    return s - 1 if red_one else s"
   ]
  },
  {
   "cell_type": "code",
   "execution_count": 14,
   "id": "bfa3c31c",
   "metadata": {},
   "outputs": [],
   "source": [
    "# Dane od rodjenja, dane zaposljenja prevedemo u godine\n",
    "applications['DAYS_OLD'] = -applications['DAYS_BIRTH']\n",
    "applications['DAYS_WORKING'] = applications['DAYS_EMPLOYED'].apply(lambda x: -x if x<0 else 0)\n",
    "applications['INCOME_BRACKET'] = applications['AMT_INCOME_TOTAL'].apply(lambda x: get_bucket(x,20000,1000000,False))"
   ]
  },
  {
   "cell_type": "code",
   "execution_count": 15,
   "id": "3fa063ff",
   "metadata": {},
   "outputs": [],
   "source": [
    "applications.drop(['DAYS_BIRTH','DAYS_EMPLOYED'],axis=1, inplace=True)"
   ]
  },
  {
   "cell_type": "code",
   "execution_count": 16,
   "id": "eb9e69f1",
   "metadata": {},
   "outputs": [
    {
     "data": {
      "text/html": [
       "<div>\n",
       "<style scoped>\n",
       "    .dataframe tbody tr th:only-of-type {\n",
       "        vertical-align: middle;\n",
       "    }\n",
       "\n",
       "    .dataframe tbody tr th {\n",
       "        vertical-align: top;\n",
       "    }\n",
       "\n",
       "    .dataframe thead th {\n",
       "        text-align: right;\n",
       "    }\n",
       "</style>\n",
       "<table border=\"1\" class=\"dataframe\">\n",
       "  <thead>\n",
       "    <tr style=\"text-align: right;\">\n",
       "      <th></th>\n",
       "      <th>ID</th>\n",
       "      <th>CODE_GENDER</th>\n",
       "      <th>FLAG_OWN_CAR</th>\n",
       "      <th>FLAG_OWN_REALTY</th>\n",
       "      <th>CNT_CHILDREN</th>\n",
       "      <th>AMT_INCOME_TOTAL</th>\n",
       "      <th>NAME_EDUCATION_TYPE</th>\n",
       "      <th>FLAG_MOBIL</th>\n",
       "      <th>FLAG_WORK_PHONE</th>\n",
       "      <th>FLAG_PHONE</th>\n",
       "      <th>...</th>\n",
       "      <th>OCCUPATION_TYPE_Medicine staff</th>\n",
       "      <th>OCCUPATION_TYPE_Private service staff</th>\n",
       "      <th>OCCUPATION_TYPE_Realty agents</th>\n",
       "      <th>OCCUPATION_TYPE_Sales staff</th>\n",
       "      <th>OCCUPATION_TYPE_Secretaries</th>\n",
       "      <th>OCCUPATION_TYPE_Security staff</th>\n",
       "      <th>OCCUPATION_TYPE_Waiters/barmen staff</th>\n",
       "      <th>DAYS_OLD</th>\n",
       "      <th>DAYS_WORKING</th>\n",
       "      <th>INCOME_BRACKET</th>\n",
       "    </tr>\n",
       "  </thead>\n",
       "  <tbody>\n",
       "    <tr>\n",
       "      <th>count</th>\n",
       "      <td>4.385570e+05</td>\n",
       "      <td>438557.000000</td>\n",
       "      <td>438557.000000</td>\n",
       "      <td>438557.000000</td>\n",
       "      <td>438557.000000</td>\n",
       "      <td>4.385570e+05</td>\n",
       "      <td>438557.000000</td>\n",
       "      <td>438557.0</td>\n",
       "      <td>438557.000000</td>\n",
       "      <td>438557.000000</td>\n",
       "      <td>...</td>\n",
       "      <td>438557.000000</td>\n",
       "      <td>438557.000000</td>\n",
       "      <td>438557.000000</td>\n",
       "      <td>438557.000000</td>\n",
       "      <td>438557.000000</td>\n",
       "      <td>438557.000000</td>\n",
       "      <td>438557.000000</td>\n",
       "      <td>438557.000000</td>\n",
       "      <td>438557.000000</td>\n",
       "      <td>438557.000000</td>\n",
       "    </tr>\n",
       "    <tr>\n",
       "      <th>mean</th>\n",
       "      <td>6.022176e+06</td>\n",
       "      <td>0.328616</td>\n",
       "      <td>0.371897</td>\n",
       "      <td>0.693351</td>\n",
       "      <td>0.427390</td>\n",
       "      <td>1.875243e+05</td>\n",
       "      <td>3.116268</td>\n",
       "      <td>1.0</td>\n",
       "      <td>0.206133</td>\n",
       "      <td>0.287771</td>\n",
       "      <td>...</td>\n",
       "      <td>0.030828</td>\n",
       "      <td>0.007880</td>\n",
       "      <td>0.002374</td>\n",
       "      <td>0.093712</td>\n",
       "      <td>0.004661</td>\n",
       "      <td>0.018226</td>\n",
       "      <td>0.003797</td>\n",
       "      <td>15997.904649</td>\n",
       "      <td>2172.502516</td>\n",
       "      <td>8.881479</td>\n",
       "    </tr>\n",
       "    <tr>\n",
       "      <th>std</th>\n",
       "      <td>5.716370e+05</td>\n",
       "      <td>0.469711</td>\n",
       "      <td>0.483312</td>\n",
       "      <td>0.461103</td>\n",
       "      <td>0.724882</td>\n",
       "      <td>1.100869e+05</td>\n",
       "      <td>1.336736</td>\n",
       "      <td>0.0</td>\n",
       "      <td>0.404527</td>\n",
       "      <td>0.452724</td>\n",
       "      <td>...</td>\n",
       "      <td>0.172853</td>\n",
       "      <td>0.088421</td>\n",
       "      <td>0.048663</td>\n",
       "      <td>0.291428</td>\n",
       "      <td>0.068110</td>\n",
       "      <td>0.133767</td>\n",
       "      <td>0.061499</td>\n",
       "      <td>4185.030007</td>\n",
       "      <td>2397.398738</td>\n",
       "      <td>5.013303</td>\n",
       "    </tr>\n",
       "    <tr>\n",
       "      <th>min</th>\n",
       "      <td>5.008804e+06</td>\n",
       "      <td>0.000000</td>\n",
       "      <td>0.000000</td>\n",
       "      <td>0.000000</td>\n",
       "      <td>0.000000</td>\n",
       "      <td>2.610000e+04</td>\n",
       "      <td>0.000000</td>\n",
       "      <td>1.0</td>\n",
       "      <td>0.000000</td>\n",
       "      <td>0.000000</td>\n",
       "      <td>...</td>\n",
       "      <td>0.000000</td>\n",
       "      <td>0.000000</td>\n",
       "      <td>0.000000</td>\n",
       "      <td>0.000000</td>\n",
       "      <td>0.000000</td>\n",
       "      <td>0.000000</td>\n",
       "      <td>0.000000</td>\n",
       "      <td>7489.000000</td>\n",
       "      <td>0.000000</td>\n",
       "      <td>1.000000</td>\n",
       "    </tr>\n",
       "    <tr>\n",
       "      <th>25%</th>\n",
       "      <td>5.609375e+06</td>\n",
       "      <td>0.000000</td>\n",
       "      <td>0.000000</td>\n",
       "      <td>0.000000</td>\n",
       "      <td>0.000000</td>\n",
       "      <td>1.215000e+05</td>\n",
       "      <td>1.000000</td>\n",
       "      <td>1.0</td>\n",
       "      <td>0.000000</td>\n",
       "      <td>0.000000</td>\n",
       "      <td>...</td>\n",
       "      <td>0.000000</td>\n",
       "      <td>0.000000</td>\n",
       "      <td>0.000000</td>\n",
       "      <td>0.000000</td>\n",
       "      <td>0.000000</td>\n",
       "      <td>0.000000</td>\n",
       "      <td>0.000000</td>\n",
       "      <td>12514.000000</td>\n",
       "      <td>371.000000</td>\n",
       "      <td>6.000000</td>\n",
       "    </tr>\n",
       "    <tr>\n",
       "      <th>50%</th>\n",
       "      <td>6.047745e+06</td>\n",
       "      <td>0.000000</td>\n",
       "      <td>0.000000</td>\n",
       "      <td>1.000000</td>\n",
       "      <td>0.000000</td>\n",
       "      <td>1.607805e+05</td>\n",
       "      <td>4.000000</td>\n",
       "      <td>1.0</td>\n",
       "      <td>0.000000</td>\n",
       "      <td>0.000000</td>\n",
       "      <td>...</td>\n",
       "      <td>0.000000</td>\n",
       "      <td>0.000000</td>\n",
       "      <td>0.000000</td>\n",
       "      <td>0.000000</td>\n",
       "      <td>0.000000</td>\n",
       "      <td>0.000000</td>\n",
       "      <td>0.000000</td>\n",
       "      <td>15630.000000</td>\n",
       "      <td>1467.000000</td>\n",
       "      <td>8.000000</td>\n",
       "    </tr>\n",
       "    <tr>\n",
       "      <th>75%</th>\n",
       "      <td>6.456971e+06</td>\n",
       "      <td>1.000000</td>\n",
       "      <td>1.000000</td>\n",
       "      <td>1.000000</td>\n",
       "      <td>1.000000</td>\n",
       "      <td>2.250000e+05</td>\n",
       "      <td>4.000000</td>\n",
       "      <td>1.0</td>\n",
       "      <td>0.000000</td>\n",
       "      <td>1.000000</td>\n",
       "      <td>...</td>\n",
       "      <td>0.000000</td>\n",
       "      <td>0.000000</td>\n",
       "      <td>0.000000</td>\n",
       "      <td>0.000000</td>\n",
       "      <td>0.000000</td>\n",
       "      <td>0.000000</td>\n",
       "      <td>0.000000</td>\n",
       "      <td>19483.000000</td>\n",
       "      <td>3103.000000</td>\n",
       "      <td>11.000000</td>\n",
       "    </tr>\n",
       "    <tr>\n",
       "      <th>max</th>\n",
       "      <td>7.999952e+06</td>\n",
       "      <td>1.000000</td>\n",
       "      <td>1.000000</td>\n",
       "      <td>1.000000</td>\n",
       "      <td>19.000000</td>\n",
       "      <td>6.750000e+06</td>\n",
       "      <td>4.000000</td>\n",
       "      <td>1.0</td>\n",
       "      <td>1.000000</td>\n",
       "      <td>1.000000</td>\n",
       "      <td>...</td>\n",
       "      <td>1.000000</td>\n",
       "      <td>1.000000</td>\n",
       "      <td>1.000000</td>\n",
       "      <td>1.000000</td>\n",
       "      <td>1.000000</td>\n",
       "      <td>1.000000</td>\n",
       "      <td>1.000000</td>\n",
       "      <td>25201.000000</td>\n",
       "      <td>17531.000000</td>\n",
       "      <td>50.000000</td>\n",
       "    </tr>\n",
       "  </tbody>\n",
       "</table>\n",
       "<p>8 rows × 49 columns</p>\n",
       "</div>"
      ],
      "text/plain": [
       "                 ID    CODE_GENDER   FLAG_OWN_CAR  FLAG_OWN_REALTY  \\\n",
       "count  4.385570e+05  438557.000000  438557.000000    438557.000000   \n",
       "mean   6.022176e+06       0.328616       0.371897         0.693351   \n",
       "std    5.716370e+05       0.469711       0.483312         0.461103   \n",
       "min    5.008804e+06       0.000000       0.000000         0.000000   \n",
       "25%    5.609375e+06       0.000000       0.000000         0.000000   \n",
       "50%    6.047745e+06       0.000000       0.000000         1.000000   \n",
       "75%    6.456971e+06       1.000000       1.000000         1.000000   \n",
       "max    7.999952e+06       1.000000       1.000000         1.000000   \n",
       "\n",
       "        CNT_CHILDREN  AMT_INCOME_TOTAL  NAME_EDUCATION_TYPE  FLAG_MOBIL  \\\n",
       "count  438557.000000      4.385570e+05        438557.000000    438557.0   \n",
       "mean        0.427390      1.875243e+05             3.116268         1.0   \n",
       "std         0.724882      1.100869e+05             1.336736         0.0   \n",
       "min         0.000000      2.610000e+04             0.000000         1.0   \n",
       "25%         0.000000      1.215000e+05             1.000000         1.0   \n",
       "50%         0.000000      1.607805e+05             4.000000         1.0   \n",
       "75%         1.000000      2.250000e+05             4.000000         1.0   \n",
       "max        19.000000      6.750000e+06             4.000000         1.0   \n",
       "\n",
       "       FLAG_WORK_PHONE     FLAG_PHONE  ...  OCCUPATION_TYPE_Medicine staff  \\\n",
       "count    438557.000000  438557.000000  ...                   438557.000000   \n",
       "mean          0.206133       0.287771  ...                        0.030828   \n",
       "std           0.404527       0.452724  ...                        0.172853   \n",
       "min           0.000000       0.000000  ...                        0.000000   \n",
       "25%           0.000000       0.000000  ...                        0.000000   \n",
       "50%           0.000000       0.000000  ...                        0.000000   \n",
       "75%           0.000000       1.000000  ...                        0.000000   \n",
       "max           1.000000       1.000000  ...                        1.000000   \n",
       "\n",
       "       OCCUPATION_TYPE_Private service staff  OCCUPATION_TYPE_Realty agents  \\\n",
       "count                          438557.000000                  438557.000000   \n",
       "mean                                0.007880                       0.002374   \n",
       "std                                 0.088421                       0.048663   \n",
       "min                                 0.000000                       0.000000   \n",
       "25%                                 0.000000                       0.000000   \n",
       "50%                                 0.000000                       0.000000   \n",
       "75%                                 0.000000                       0.000000   \n",
       "max                                 1.000000                       1.000000   \n",
       "\n",
       "       OCCUPATION_TYPE_Sales staff  OCCUPATION_TYPE_Secretaries  \\\n",
       "count                438557.000000                438557.000000   \n",
       "mean                      0.093712                     0.004661   \n",
       "std                       0.291428                     0.068110   \n",
       "min                       0.000000                     0.000000   \n",
       "25%                       0.000000                     0.000000   \n",
       "50%                       0.000000                     0.000000   \n",
       "75%                       0.000000                     0.000000   \n",
       "max                       1.000000                     1.000000   \n",
       "\n",
       "       OCCUPATION_TYPE_Security staff  OCCUPATION_TYPE_Waiters/barmen staff  \\\n",
       "count                   438557.000000                         438557.000000   \n",
       "mean                         0.018226                              0.003797   \n",
       "std                          0.133767                              0.061499   \n",
       "min                          0.000000                              0.000000   \n",
       "25%                          0.000000                              0.000000   \n",
       "50%                          0.000000                              0.000000   \n",
       "75%                          0.000000                              0.000000   \n",
       "max                          1.000000                              1.000000   \n",
       "\n",
       "            DAYS_OLD   DAYS_WORKING  INCOME_BRACKET  \n",
       "count  438557.000000  438557.000000   438557.000000  \n",
       "mean    15997.904649    2172.502516        8.881479  \n",
       "std      4185.030007    2397.398738        5.013303  \n",
       "min      7489.000000       0.000000        1.000000  \n",
       "25%     12514.000000     371.000000        6.000000  \n",
       "50%     15630.000000    1467.000000        8.000000  \n",
       "75%     19483.000000    3103.000000       11.000000  \n",
       "max     25201.000000   17531.000000       50.000000  \n",
       "\n",
       "[8 rows x 49 columns]"
      ]
     },
     "execution_count": 16,
     "metadata": {},
     "output_type": "execute_result"
    }
   ],
   "source": [
    "applications.describe()"
   ]
  },
  {
   "cell_type": "markdown",
   "id": "e02a1f7d-48ae-4fa5-9e50-34e0cfb0c846",
   "metadata": {},
   "source": [
    "## Outlieri"
   ]
  },
  {
   "cell_type": "code",
   "execution_count": 17,
   "id": "f62382c4",
   "metadata": {},
   "outputs": [
    {
     "name": "stdout",
     "output_type": "stream",
     "text": [
      "Outliers:  20959\n"
     ]
    }
   ],
   "source": [
    "isf = IF(n_estimators=200, n_jobs=-1)\n",
    "pred1 = isf.fit_predict(applications)\n",
    "c = (pred1<0).sum()\n",
    "print(\"Outliers: \",c)"
   ]
  },
  {
   "cell_type": "code",
   "execution_count": 18,
   "id": "7022f407",
   "metadata": {},
   "outputs": [
    {
     "name": "stdout",
     "output_type": "stream",
     "text": [
      "Outliers:  31083\n"
     ]
    }
   ],
   "source": [
    "lof = LOF(n_neighbors=30, n_jobs=-1)\n",
    "pred2 = lof.fit_predict(applications)\n",
    "c = (pred2<0).sum()\n",
    "print(\"Outliers: \",c)"
   ]
  },
  {
   "cell_type": "code",
   "execution_count": 19,
   "id": "39024d6e",
   "metadata": {},
   "outputs": [
    {
     "name": "stdout",
     "output_type": "stream",
     "text": [
      "Outliers:  1753\n"
     ]
    }
   ],
   "source": [
    "outliers=[]\n",
    "for i in range(len(pred1)):\n",
    "    if pred1[i]==pred2[i] and pred1[i]==-1:\n",
    "        outliers.append(i)\n",
    "print(\"Outliers: \", len(outliers))"
   ]
  },
  {
   "cell_type": "code",
   "execution_count": 20,
   "id": "e71c63c6-3c3f-4a66-863f-3b846ec79da7",
   "metadata": {},
   "outputs": [],
   "source": [
    "applications.drop(outliers, inplace=True)"
   ]
  },
  {
   "cell_type": "markdown",
   "id": "26f0fcd8-8f89-473a-8117-41689ebb4cf5",
   "metadata": {
    "jp-MarkdownHeadingCollapsed": true
   },
   "source": [
    "## Prikaz"
   ]
  },
  {
   "cell_type": "code",
   "execution_count": 21,
   "id": "a7081495-f1ab-4167-afc0-1acdbbbb38f3",
   "metadata": {},
   "outputs": [],
   "source": [
    "def plot_sub(data, axes, i, j, binwidth, color,title=None):\n",
    "    m = np.mean(data)\n",
    "    v = np.var(data)\n",
    "    ax = get_ax(axes,i,j)\n",
    "\n",
    "    sns.histplot(data = data, binwidth = binwidth, ax = ax, color=color, legend=False)\n",
    "    \n",
    "    ax.axvline(m, color='red', linestyle='dashed', linewidth=2, label=f'Mean: {m:.2f}')\n",
    "    ax.axvline(m - np.sqrt(v), color='green', linestyle='dashed', linewidth=2, label=f'-1 SD')\n",
    "    ax.axvline(m + np.sqrt(v), color='green', linestyle='dashed', linewidth=2, label=f'+1 SD')\n",
    "\n",
    "    if not title is None:\n",
    "        ax.set_title(title)\n",
    "\n",
    "def plot_pie(data, ax,col):\n",
    "    labels = data.unique()\n",
    "    counts = data.value_counts()\n",
    "    ax.pie(counts,labels=labels,autopct='%1.1f%%')\n",
    "    ax.set_title(col)\n",
    "\n",
    "def get_ax(axes, i, j):\n",
    "    if not hasattr(axes,'shape'):\n",
    "        return axes\n",
    "    elif len(axes.shape) == 1:\n",
    "        return axes[i]\n",
    "    else:\n",
    "        return axes[i,j]\n",
    "    \n",
    "def get_plot_w_h(plot_count):\n",
    "    w = int(plot_count**0.5)\n",
    "    h = plot_count //w\n",
    "    if plot_count%w !=0:\n",
    "        h+=1\n",
    "    return w,h\n",
    "\n",
    "def plot_features(X, col_list, plot_w, plot_h):\n",
    "    #col_list - kolona, sirina binova, boja\n",
    "    plot_count = len(col_list)\n",
    "    w,h = get_plot_w_h(plot_count)\n",
    "    fig, axes = plt.subplots(h, w, figsize = (plot_h,plot_w))\n",
    "    \n",
    "    for i in range(h):\n",
    "        for j in range(w):\n",
    "            ind = i*w + j\n",
    "            if ind >= plot_count:\n",
    "                break\n",
    "            col, bins, color = col_list[ind]\n",
    "            plot_sub(X[col], axes, i, j, bins, color)\n",
    "    plt.tight_layout()\n",
    "    plt.show()\n",
    "\n",
    "def plot_pie_charts(X, col_list, plot_w, plot_h):\n",
    "    plot_count = len(col_list)\n",
    "    w,h = get_plot_w_h(plot_count)\n",
    "    fig, axes = plt.subplots(h, w, figsize = (plot_h,plot_w))\n",
    "    \n",
    "    for i in range(h):\n",
    "        for j in range(w):\n",
    "            ind = i*w + j\n",
    "            if ind >= plot_count:\n",
    "                break\n",
    "            col = col_list[ind]\n",
    "            plot_pie(X[col], get_ax(axes, i, j),col)\n",
    "    plt.tight_layout()\n",
    "    plt.show()"
   ]
  },
  {
   "cell_type": "code",
   "execution_count": 22,
   "id": "8a26f4d2",
   "metadata": {},
   "outputs": [
    {
     "data": {
      "image/png": "[encoded data removed]",
      "text/plain": [
       "<Figure size 1000x1000 with 4 Axes>"
      ]
     },
     "metadata": {},
     "output_type": "display_data"
    }
   ],
   "source": [
    "col_list = [('DAYS_OLD',365,'red'),\\\n",
    "            ('DAYS_WORKING',365,'steelblue'),\\\n",
    "            ('INCOME_BRACKET',1,'green'),\\\n",
    "            ('NAME_EDUCATION_TYPE',1,'orange')]\n",
    "plot_features(applications,col_list,10,10)"
   ]
  },
  {
   "cell_type": "code",
   "execution_count": 23,
   "id": "01f0dfa8-b3a4-49ba-a07d-601b4189adf9",
   "metadata": {},
   "outputs": [
    {
     "data": {
      "image/png": "[encoded data removed]",
      "text/plain": [
       "<Figure size 1000x1000 with 6 Axes>"
      ]
     },
     "metadata": {},
     "output_type": "display_data"
    }
   ],
   "source": [
    "col_list = ['CODE_GENDER','FLAG_OWN_CAR','FLAG_OWN_REALTY','FLAG_MOBIL','FLAG_WORK_PHONE','NAME_EDUCATION_TYPE']\n",
    "plot_pie_charts(applications,col_list,10,10)"
   ]
  },
  {
   "cell_type": "markdown",
   "id": "e66a1997-17b6-4a5e-878c-e884dad41570",
   "metadata": {
    "jp-MarkdownHeadingCollapsed": true
   },
   "source": [
    "# Odredjivanje grupe korisnika"
   ]
  },
  {
   "cell_type": "code",
   "execution_count": 24,
   "id": "b3f9ebc2-6b0a-4510-867c-82f4db127383",
   "metadata": {},
   "outputs": [],
   "source": [
    "#Nadjemo istoriju placanje za one korisnike ciji ID je u obe tabele\n",
    "payment_history = cred_enc[cred_enc['ID'].isin(applications['ID'])]\n",
    "#Za svakog korisnika nadjemo status otplate za svaki od meseca, sortiramo i uzmemo samo najnovije podatke\n",
    "last_pay_dict = payment_history.groupby('ID').apply(lambda x: sorted(zip(x['MONTHS_BALANCE'], x['STATUS']),reverse=True)[0][1]).to_dict()\n",
    "avg_pay_dict = payment_history.groupby('ID').apply(lambda x: sorted(zip(x['MONTHS_BALANCE'], x['STATUS']),reverse=True)).to_dict()"
   ]
  },
  {
   "cell_type": "code",
   "execution_count": 25,
   "id": "3ed8ccba-cd42-4167-954b-13c7f7a542bc",
   "metadata": {},
   "outputs": [],
   "source": [
    "def get_avg_pay(pay_dict):\n",
    "    for i in pay_dict.keys():\n",
    "        l = pay_dict[i]\n",
    "        tot_w = 0\n",
    "        s = 0\n",
    "        for j in range(len(l)):\n",
    "            w = 1/(j+1)\n",
    "            s += w * l[j][1]\n",
    "            tot_w += w\n",
    "        pay_dict[i] = int(s / tot_w)\n",
    "    return pay_dict\n",
    "avg = list(get_avg_pay(avg_pay_dict).values())\n",
    "last = list(last_pay_dict.values())"
   ]
  },
  {
   "cell_type": "code",
   "execution_count": 26,
   "id": "2e80b602-f6d8-4267-bc78-44674cf61941",
   "metadata": {},
   "outputs": [],
   "source": [
    "ids = list(last_pay_dict.keys())"
   ]
  },
  {
   "cell_type": "code",
   "execution_count": 27,
   "id": "543830c1-f2ac-44b9-a7d0-edfe8950732e",
   "metadata": {},
   "outputs": [],
   "source": [
    "apps_with_paydata = applications[applications['ID'].isin(ids)]"
   ]
  },
  {
   "cell_type": "markdown",
   "id": "c7ce2e2c",
   "metadata": {},
   "source": [
    "## Skaliranje"
   ]
  },
  {
   "cell_type": "code",
   "execution_count": 28,
   "id": "041fbee9-b189-4e99-8f52-4b129b77190d",
   "metadata": {},
   "outputs": [],
   "source": [
    "ss = StandardScaler()\n",
    "apps_with_paydata = ss.fit_transform(apps_with_paydata)"
   ]
  },
  {
   "cell_type": "markdown",
   "id": "271ae681",
   "metadata": {},
   "source": [
    "# Redukcija dimenzionalnosti"
   ]
  },
  {
   "cell_type": "code",
   "execution_count": 29,
   "id": "5fe29a5d-c705-423e-a551-13a28dfab95e",
   "metadata": {},
   "outputs": [],
   "source": [
    "def get_alg(alg_type, n_components):\n",
    "    if alg_type==\"PCA\":\n",
    "        return PCA(n_components=n_components)\n",
    "    elif alg_type==\"GRP\":\n",
    "        return GaussianRandomProjection(n_components=n_components)\n",
    "    elif alg_type==\"LLE\":\n",
    "        return LocallyLinearEmbedding(n_components=n_components,n_jobs=-1, n_neighbors=10, eigen_solver='dense')\n",
    "    elif alg_type==\"ISO\":\n",
    "        return Isomap(n_components=n_components,n_jobs=-1, n_neighbors=15)\n",
    "    elif alg_type==\"MDS\":\n",
    "        return MDS(n_components=n_components,n_jobs=-1, normalized_stress=False)\n",
    "    elif alg_type==\"UMAP\":\n",
    "        return umap.UMAP(n_neighbors=30, min_dist=0.0, n_components=n_components, n_jobs=-1)\n",
    "    else:\n",
    "        print(\"Unknown algorithm...\")\n",
    "        return PCA(n_components=n_components)\n",
    "def plot_dict(data):\n",
    "    df = pd.DataFrame(list(data.items()), columns=['Timestamp', 'Metric'])\n",
    "    sns.lineplot(x='Timestamp', y='Metric', data=df)\n",
    "    \n",
    "def plot_n_comp(data, alg_type, start_comp, end_comp, step, samples=None):\n",
    "    i = start_comp\n",
    "    results = {}\n",
    "    s = time.time()\n",
    "        \n",
    "    while i<=end_comp:\n",
    "        alg = get_alg(alg_type, i)\n",
    "        s1 = time.time()\n",
    "        if samples is not None:\n",
    "            alg.fit(data[:samples])\n",
    "        else:\n",
    "            alg.fit(data)\n",
    "        e1 = time.time()\n",
    "        rec_loss = 0\n",
    "        if hasattr(alg, \"inverse_transform\"):\n",
    "            transformed = alg.transform(data)\n",
    "            data_reconstructed = alg.inverse_transform(transformed)\n",
    "            rec_loss = mean_squared_error(data, data_reconstructed)\n",
    "        elif hasattr(alg, \"reconstruction_error\"):\n",
    "            rec_loss = alg.reconstruction_error()\n",
    "        elif hasattr(alg, \"reconstruction_error_\"):\n",
    "            rec_loss = alg.reconstruction_error_\n",
    "        elif hasattr(alg, \"stress_\"):\n",
    "            rec_loss = alg.stress_\n",
    "        else:\n",
    "            print(\"Unknown dim reduction metric\")\n",
    "        results[i] = abs(rec_loss)\n",
    "        print(alg_type,\" - Dimensions: \",i,\"\\tReconstruction error: \", abs(rec_loss), \"\\tFit time: \", (e1-s1),\"s\")\n",
    "        i+=step\n",
    "    e = time.time()\n",
    "    print(\"Total time: \",(e-s), \"s\")\n",
    "    plot_dict(results)\n",
    "\n",
    "def plot_size_comp(data, n, alg_type, start_size, end_size, step):\n",
    "    i = start_size\n",
    "    results = {}\n",
    "    s = time.time()\n",
    "        \n",
    "    while i<=end_size:\n",
    "        alg = get_alg(alg_type, n)\n",
    "        s1 = time.time()\n",
    "        try:\n",
    "            alg.fit(data[:i])\n",
    "        except:\n",
    "            print(\"No more memory!\")\n",
    "            break\n",
    "\n",
    "        e1 = time.time()\n",
    "        rec_loss = 0\n",
    "        if hasattr(alg, \"inverse_transform\"):\n",
    "            transformed = alg.transform(data)\n",
    "            data_reconstructed = alg.inverse_transform(transformed)\n",
    "            rec_loss = mean_squared_error(data, data_reconstructed)\n",
    "        elif hasattr(alg, \"reconstruction_error\"):\n",
    "            rec_loss = alg.reconstruction_error()\n",
    "        elif hasattr(alg, \"reconstruction_error_\"):\n",
    "            rec_loss = alg.reconstruction_error_\n",
    "        elif hasattr(alg, \"stress_\"):\n",
    "            rec_loss = alg.stress_\n",
    "        else:\n",
    "            print(\"Unknown dim reduction metric\")\n",
    "        results[i] = abs(rec_loss)\n",
    "        print(alg_type,\" - Samples: \",i,\"\\tReconstruction error: \", abs(rec_loss), \"\\tFit time: \", (e1-s1),\"s\")\n",
    "        i+=step\n",
    "    e = time.time()\n",
    "    print(\"Total time: \",(e-s), \"s\")\n",
    "    plot_dict(results)"
   ]
  },
  {
   "cell_type": "markdown",
   "id": "b3080a6d-2525-40cf-9be0-f7d4bc6fdb05",
   "metadata": {},
   "source": [
    "## PCA"
   ]
  },
  {
   "cell_type": "code",
   "execution_count": 30,
   "id": "287a85f0",
   "metadata": {},
   "outputs": [
    {
     "name": "stdout",
     "output_type": "stream",
     "text": [
      "PCA  - Dimensions:  10 \tReconstruction error:  0.6048576830667112 \tFit time:  0.09151005744934082 s\n",
      "PCA  - Dimensions:  15 \tReconstruction error:  0.49138360407207526 \tFit time:  0.13053679466247559 s\n",
      "PCA  - Dimensions:  20 \tReconstruction error:  0.3850690359970448 \tFit time:  0.14592528343200684 s\n",
      "PCA  - Dimensions:  25 \tReconstruction error:  0.2810052549403959 \tFit time:  0.17273926734924316 s\n",
      "PCA  - Dimensions:  30 \tReconstruction error:  0.18040798364554045 \tFit time:  0.19716525077819824 s\n",
      "PCA  - Dimensions:  35 \tReconstruction error:  0.0890506982659641 \tFit time:  0.22432208061218262 s\n",
      "PCA  - Dimensions:  40 \tReconstruction error:  0.01839892016408736 \tFit time:  0.06212615966796875 s\n",
      "PCA  - Dimensions:  45 \tReconstruction error:  2.8945901856129938e-30 \tFit time:  0.06907320022583008 s\n",
      "Total time:  1.4341566562652588 s\n"
     ]
    },
    {
     "data": {
      "image/png": "[encoded data removed]",
      "text/plain": [
       "<Figure size 640x480 with 1 Axes>"
      ]
     },
     "metadata": {},
     "output_type": "display_data"
    }
   ],
   "source": [
    "plot_n_comp(apps_with_paydata,\"PCA\", 10,45,5)"
   ]
  },
  {
   "cell_type": "code",
   "execution_count": 31,
   "id": "e09b4ee1-f5e1-4f64-9a0e-9e6950a01107",
   "metadata": {},
   "outputs": [],
   "source": [
    "pca = PCA(n_components=40)\n",
    "pca.fit(apps_with_paydata)\n",
    "app_train_pca = pca.transform(apps_with_paydata)"
   ]
  },
  {
   "cell_type": "markdown",
   "id": "69f9c4e6-04b8-4826-a461-4496ac5f59d0",
   "metadata": {
    "jp-MarkdownHeadingCollapsed": true
   },
   "source": [
    "## GaussianRandomProjection"
   ]
  },
  {
   "cell_type": "code",
   "execution_count": 32,
   "id": "18d79d25-c5f4-4437-bebc-fae71ec30cbc",
   "metadata": {},
   "outputs": [
    {
     "name": "stdout",
     "output_type": "stream",
     "text": [
      "GRP  - Dimensions:  10 \tReconstruction error:  0.78439202110458 \tFit time:  0.0 s\n",
      "GRP  - Dimensions:  15 \tReconstruction error:  0.6688782589027185 \tFit time:  0.003999948501586914 s\n",
      "GRP  - Dimensions:  20 \tReconstruction error:  0.5865333932707746 \tFit time:  0.0 s\n",
      "GRP  - Dimensions:  25 \tReconstruction error:  0.4722931251975636 \tFit time:  0.0 s\n",
      "GRP  - Dimensions:  30 \tReconstruction error:  0.38603482419611646 \tFit time:  0.0029997825622558594 s\n",
      "GRP  - Dimensions:  35 \tReconstruction error:  0.27851423676059556 \tFit time:  0.0 s\n",
      "GRP  - Dimensions:  40 \tReconstruction error:  0.17716460733695158 \tFit time:  0.0 s\n",
      "GRP  - Dimensions:  45 \tReconstruction error:  0.08533660638263918 \tFit time:  0.01564168930053711 s\n",
      "Total time:  0.2767186164855957 s\n"
     ]
    },
    {
     "data": {
      "image/png": "[encoded data removed]",
      "text/plain": [
       "<Figure size 640x480 with 1 Axes>"
      ]
     },
     "metadata": {},
     "output_type": "display_data"
    }
   ],
   "source": [
    "plot_n_comp(apps_with_paydata,\"GRP\", 10,45,5)"
   ]
  },
  {
   "cell_type": "markdown",
   "id": "c5e36400-b009-4ffa-a782-2706995cc0a9",
   "metadata": {},
   "source": [
    "## Locally Linear Embedding"
   ]
  },
  {
   "cell_type": "code",
   "execution_count": 33,
   "id": "caa07c38-c015-45d9-a066-e6c89e98b9f0",
   "metadata": {},
   "outputs": [
    {
     "name": "stdout",
     "output_type": "stream",
     "text": [
      "LLE  - Dimensions:  2 \tReconstruction error:  1.335151324998991e-15 \tFit time:  3.070430040359497 s\n",
      "LLE  - Dimensions:  3 \tReconstruction error:  2.0027269874984864e-15 \tFit time:  3.0432119369506836 s\n",
      "LLE  - Dimensions:  4 \tReconstruction error:  2.670302649997982e-15 \tFit time:  3.0930416584014893 s\n",
      "LLE  - Dimensions:  5 \tReconstruction error:  3.3378783124974776e-15 \tFit time:  3.1089894771575928 s\n",
      "LLE  - Dimensions:  6 \tReconstruction error:  4.005453974996973e-15 \tFit time:  3.120917558670044 s\n",
      "LLE  - Dimensions:  7 \tReconstruction error:  4.673029637496468e-15 \tFit time:  3.134438991546631 s\n",
      "LLE  - Dimensions:  8 \tReconstruction error:  5.340605299995964e-15 \tFit time:  3.1267802715301514 s\n",
      "LLE  - Dimensions:  9 \tReconstruction error:  6.008180962495459e-15 \tFit time:  3.2548091411590576 s\n",
      "LLE  - Dimensions:  10 \tReconstruction error:  6.6757566249949545e-15 \tFit time:  3.098078727722168 s\n",
      "LLE  - Dimensions:  11 \tReconstruction error:  7.34333228749445e-15 \tFit time:  3.081397771835327 s\n",
      "LLE  - Dimensions:  12 \tReconstruction error:  8.010907949993946e-15 \tFit time:  3.0866618156433105 s\n",
      "LLE  - Dimensions:  13 \tReconstruction error:  8.678483612493442e-15 \tFit time:  3.0932657718658447 s\n",
      "LLE  - Dimensions:  14 \tReconstruction error:  9.346059274992938e-15 \tFit time:  3.090742349624634 s\n",
      "LLE  - Dimensions:  15 \tReconstruction error:  1.0013634937492434e-14 \tFit time:  3.1223201751708984 s\n",
      "LLE  - Dimensions:  16 \tReconstruction error:  1.0681210599991928e-14 \tFit time:  3.2067127227783203 s\n",
      "LLE  - Dimensions:  17 \tReconstruction error:  1.1348786262491424e-14 \tFit time:  3.094630479812622 s\n",
      "LLE  - Dimensions:  18 \tReconstruction error:  1.201636192499092e-14 \tFit time:  3.1281867027282715 s\n",
      "LLE  - Dimensions:  19 \tReconstruction error:  1.2683937587490416e-14 \tFit time:  3.0822560787200928 s\n",
      "LLE  - Dimensions:  20 \tReconstruction error:  1.3351513249989912e-14 \tFit time:  3.2462260723114014 s\n",
      "LLE  - Dimensions:  21 \tReconstruction error:  1.4019088912489408e-14 \tFit time:  3.2028536796569824 s\n",
      "LLE  - Dimensions:  22 \tReconstruction error:  1.4686664574988903e-14 \tFit time:  3.3213982582092285 s\n",
      "LLE  - Dimensions:  23 \tReconstruction error:  1.53542402374884e-14 \tFit time:  3.2947072982788086 s\n",
      "LLE  - Dimensions:  24 \tReconstruction error:  1.602181589998789e-14 \tFit time:  3.346553325653076 s\n",
      "LLE  - Dimensions:  25 \tReconstruction error:  1.6689391562487387e-14 \tFit time:  3.234097957611084 s\n",
      "LLE  - Dimensions:  26 \tReconstruction error:  1.7356967224986883e-14 \tFit time:  3.2258429527282715 s\n",
      "LLE  - Dimensions:  27 \tReconstruction error:  1.802454288748638e-14 \tFit time:  3.125758171081543 s\n",
      "LLE  - Dimensions:  28 \tReconstruction error:  1.8692118549985875e-14 \tFit time:  3.134645938873291 s\n",
      "LLE  - Dimensions:  29 \tReconstruction error:  2.0075563495790148e-14 \tFit time:  3.1742801666259766 s\n",
      "LLE  - Dimensions:  30 \tReconstruction error:  2.145900844159442e-14 \tFit time:  3.1600265502929688 s\n",
      "LLE  - Dimensions:  31 \tReconstruction error:  3.0359080862098825e-14 \tFit time:  3.147711753845215 s\n",
      "LLE  - Dimensions:  32 \tReconstruction error:  2.995285259964116e-14 \tFit time:  3.189120292663574 s\n",
      "LLE  - Dimensions:  33 \tReconstruction error:  2.954662433718349e-14 \tFit time:  3.267117738723755 s\n",
      "LLE  - Dimensions:  34 \tReconstruction error:  2.914039607472582e-14 \tFit time:  3.1622321605682373 s\n",
      "LLE  - Dimensions:  35 \tReconstruction error:  2.873416781226815e-14 \tFit time:  3.152067184448242 s\n",
      "LLE  - Dimensions:  36 \tReconstruction error:  2.8327939549810485e-14 \tFit time:  3.165330648422241 s\n",
      "LLE  - Dimensions:  37 \tReconstruction error:  2.7921711287352818e-14 \tFit time:  3.136302947998047 s\n",
      "LLE  - Dimensions:  38 \tReconstruction error:  2.751548302489515e-14 \tFit time:  3.1358253955841064 s\n",
      "LLE  - Dimensions:  39 \tReconstruction error:  2.7109254762437485e-14 \tFit time:  3.160022258758545 s\n",
      "LLE  - Dimensions:  40 \tReconstruction error:  2.670302649997982e-14 \tFit time:  3.154526948928833 s\n",
      "LLE  - Dimensions:  41 \tReconstruction error:  2.6296798237522154e-14 \tFit time:  3.134798049926758 s\n",
      "LLE  - Dimensions:  42 \tReconstruction error:  2.5890569975064488e-14 \tFit time:  3.128002882003784 s\n",
      "LLE  - Dimensions:  43 \tReconstruction error:  2.548434171260682e-14 \tFit time:  3.1485557556152344 s\n",
      "LLE  - Dimensions:  44 \tReconstruction error:  2.5078113450149154e-14 \tFit time:  3.1803503036499023 s\n",
      "LLE  - Dimensions:  45 \tReconstruction error:  2.4671885187691487e-14 \tFit time:  3.1940128803253174 s\n",
      "Total time:  138.96860337257385 s\n"
     ]
    },
    {
     "data": {
      "image/png": "[encoded data removed]",
      "text/plain": [
       "<Figure size 640x480 with 1 Axes>"
      ]
     },
     "metadata": {},
     "output_type": "display_data"
    }
   ],
   "source": [
    "plot_n_comp(apps_with_paydata,\"LLE\", 2, 45, 1, 3000)"
   ]
  },
  {
   "cell_type": "code",
   "execution_count": 34,
   "id": "fbb6f4d7-5cfb-4847-be7c-0aa585c1a5d1",
   "metadata": {},
   "outputs": [
    {
     "name": "stdout",
     "output_type": "stream",
     "text": [
      "LLE  - Samples:  1000 \tReconstruction error:  1.9834911614695642e-15 \tFit time:  0.4230794906616211 s\n",
      "LLE  - Samples:  4000 \tReconstruction error:  1.781009159815391e-15 \tFit time:  5.890974521636963 s\n",
      "LLE  - Samples:  7000 \tReconstruction error:  1.4101558634813143e-15 \tFit time:  22.824429273605347 s\n",
      "LLE  - Samples:  10000 \tReconstruction error:  4.187567377574251e-15 \tFit time:  58.57434892654419 s\n",
      "LLE  - Samples:  13000 \tReconstruction error:  1.8221164983179438e-15 \tFit time:  118.77120685577393 s\n",
      "LLE  - Samples:  16000 \tReconstruction error:  1.3110182679458396e-15 \tFit time:  218.43330645561218 s\n",
      "Total time:  424.91938495635986 s\n"
     ]
    },
    {
     "data": {
      "image/png": "[encoded data removed]",
      "text/plain": [
       "<Figure size 640x480 with 1 Axes>"
      ]
     },
     "metadata": {},
     "output_type": "display_data"
    }
   ],
   "source": [
    "plot_size_comp(apps_with_paydata,2,\"LLE\",1000,16000,3000)"
   ]
  },
  {
   "cell_type": "code",
   "execution_count": null,
   "id": "95066186-d4cf-4621-a544-72f93bc665c1",
   "metadata": {},
   "outputs": [],
   "source": [
    "LLE = LocallyLinearEmbedding(n_components = 40 ,n_jobs=-1, n_neighbors=20, eigen_solver='dense')\n",
    "LLE.fit(apps_with_paydata)\n",
    "print(LLE.reconstruction_error_)"
   ]
  },
  {
   "cell_type": "code",
   "execution_count": null,
   "id": "62b030bd-b889-469c-be7a-76271c8ad775",
   "metadata": {},
   "outputs": [],
   "source": [
    "app_train_lle = LLE.transform(apps_with_paydata)"
   ]
  },
  {
   "cell_type": "markdown",
   "id": "24cae3a1-8bca-4cbe-a852-fd7f8dacfed1",
   "metadata": {},
   "source": [
    "## Isomap"
   ]
  },
  {
   "cell_type": "code",
   "execution_count": null,
   "id": "ddba5ea0-8c96-486c-80ec-70cbe99d216f",
   "metadata": {},
   "outputs": [],
   "source": [
    "plot_n_comp(apps_with_paydata,\"ISO\", 3, 40, 5, 5000)"
   ]
  },
  {
   "cell_type": "markdown",
   "id": "bb53abd1-0b5f-4b03-bdcf-3ad2f164fd7f",
   "metadata": {},
   "source": [
    "## MDS"
   ]
  },
  {
   "cell_type": "code",
   "execution_count": null,
   "id": "2019b6ee-7598-456b-b1a6-d786ca7749ce",
   "metadata": {},
   "outputs": [],
   "source": [
    "plot_n_comp(apps_with_paydata,\"MDS\", 3,40, 5, 1000)"
   ]
  },
  {
   "cell_type": "markdown",
   "id": "e2edf85c-1199-47f7-9543-9daf4f5e3cd3",
   "metadata": {},
   "source": [
    "## UMAP"
   ]
  },
  {
   "cell_type": "code",
   "execution_count": null,
   "id": "6268f884-f71f-407b-9820-da8963735a9e",
   "metadata": {},
   "outputs": [],
   "source": [
    "plot_n_comp(apps_with_paydata, \"UMAP\", 2, 40, 1)"
   ]
  },
  {
   "cell_type": "markdown",
   "id": "7d4b76b8-1db7-4478-bb94-1bdcb1c8bb58",
   "metadata": {},
   "source": [
    "# Clusterovanje"
   ]
  },
  {
   "cell_type": "markdown",
   "id": "4845a5f9-66d7-4ba3-8ef2-a61b66bbc835",
   "metadata": {},
   "source": [
    "## Vizuelizacija"
   ]
  },
  {
   "cell_type": "code",
   "execution_count": null,
   "id": "9b66077d-ed01-49a6-a85f-a4639309737e",
   "metadata": {},
   "outputs": [],
   "source": [
    "def transform_with_tsne(data, n_components):\n",
    "    if n_components>3 or n_components<2:\n",
    "        print(\"Bad number of components\")\n",
    "    \n",
    "    tsne = TSNE(n_components=n_components, n_jobs=-1, verbose = 1, n_iter=1500, perplexity=100, learning_rate=100)\n",
    "    tsne_res = tsne.fit_transform(data)\n",
    "    \n",
    "    return tsne_res\n",
    "    \n",
    "def visualise_clusters(data, n_components, labels, title=None):\n",
    "    fig = plt.figure()\n",
    "    proj = None if n_components==2 else '3d'\n",
    "    ax = fig.add_subplot(projection=proj)\n",
    "    # Scatter plot\n",
    "    x = data[:,0]\n",
    "    y = data[:,1]\n",
    "    z = data[:,2] if n_components==3 else None\n",
    "    sc = ax.scatter(x, y, z, c=labels, cmap='viridis')  # Adjust size as needed\n",
    "    cbar = plt.colorbar(sc)\n",
    "    cbar.set_label('Klasa')\n",
    "    \n",
    "    ax.set_xlabel('X')\n",
    "    ax.set_ylabel('Y')\n",
    "    if n_components==3: ax.set_zlabel('Z')\n",
    "    plt.title('Scatterplot' if title is None else title)\n",
    "    \n",
    "    plt.show()"
   ]
  },
  {
   "cell_type": "code",
   "execution_count": null,
   "id": "79fbcbdb",
   "metadata": {},
   "outputs": [],
   "source": [
    "viz_pca_2d = transform_with_tsne(app_train_pca, 2)"
   ]
  },
  {
   "cell_type": "code",
   "execution_count": null,
   "id": "3a61996c-d6ea-4dd8-8518-a0a726fb1c2a",
   "metadata": {},
   "outputs": [],
   "source": [
    "viz_pca_3d = transform_with_tsne(app_train_pca, 3)"
   ]
  },
  {
   "cell_type": "code",
   "execution_count": null,
   "id": "cefedd04-c272-43ec-b61c-6657147b55b9",
   "metadata": {},
   "outputs": [],
   "source": [
    "viz_lle_2d = transform_with_tsne(app_train_lle, 2)\n",
    "viz_lle_3d = transform_with_tsne(app_train_lle, 3)"
   ]
  },
  {
   "cell_type": "code",
   "execution_count": null,
   "id": "cba70356-f2e2-44ca-9e0a-3144a9b7db00",
   "metadata": {},
   "outputs": [],
   "source": [
    "visualise_clusters(viz_pca_2d,2,last)"
   ]
  },
  {
   "cell_type": "code",
   "execution_count": null,
   "id": "5456e4aa-8970-415a-af7e-a2413fe7d277",
   "metadata": {},
   "outputs": [],
   "source": [
    "visualise_clusters(viz_pca_3d,3,last)"
   ]
  },
  {
   "cell_type": "code",
   "execution_count": null,
   "id": "43b22fa5-64a7-4121-9381-c03774e77741",
   "metadata": {},
   "outputs": [],
   "source": [
    "visualise_clusters(viz_lle_2d,2,last)"
   ]
  },
  {
   "cell_type": "code",
   "execution_count": null,
   "id": "a30941a9-f167-438c-80fa-b9286509611c",
   "metadata": {},
   "outputs": [],
   "source": [
    "visualise_clusters(viz_lle_3d,3,last)"
   ]
  },
  {
   "cell_type": "markdown",
   "id": "ce0e5af5-55da-4146-98aa-41a4db247557",
   "metadata": {},
   "source": [
    "## Cluster"
   ]
  },
  {
   "cell_type": "code",
   "execution_count": null,
   "id": "be096c2d-f2d6-4424-9fab-ed6e9de0ae24",
   "metadata": {},
   "outputs": [],
   "source": [
    "#KMeans, AffinityPropagation, MeanShift, SpectralClustering, AgglomerativeClustering, HDBSCAN\n",
    "#GaussianMixture\n",
    "def get_all_algs():\n",
    "    algs = {'KM': KMeans(n_clusters=30, verbose=3), \\\n",
    "            'AC': AgglomerativeClustering(n_clusters=30, compute_distances=True), \\\n",
    "            'HD': HDBSCAN(n_jobs=-1),\\\n",
    "            'GM': GaussianMixture(verbose=3)}\n",
    "    return algs\n",
    "\n",
    "def train_algs(data, algs, get_preds=False):\n",
    "    preds = [] \n",
    "    keys = list(algs.keys())\n",
    "    for key in keys:\n",
    "        try:\n",
    "            print(key)\n",
    "            print(\"------------------\")\n",
    "            p = algs[key].fit_predict(data)\n",
    "            if get_preds: preds.append(p)\n",
    "            print(\"------------------\")\n",
    "        except Exception as e:\n",
    "            print(e)\n",
    "    if get_preds:\n",
    "        return preds"
   ]
  },
  {
   "cell_type": "code",
   "execution_count": null,
   "id": "a2888e8f-4890-4e96-8b2b-9a0f1252d014",
   "metadata": {},
   "outputs": [],
   "source": [
    "algs = get_all_algs()\n",
    "preds_pca = train_algs(app_train_pca, algs, True)"
   ]
  },
  {
   "cell_type": "code",
   "execution_count": null,
   "id": "dd830d04-2154-4d61-9a32-5660761b7162",
   "metadata": {},
   "outputs": [],
   "source": [
    "algs_lle = get_all_algs()\n",
    "preds_lle = train_algs(app_train_lle,algs_lle)"
   ]
  },
  {
   "cell_type": "markdown",
   "id": "2f20b902-5657-406a-81cc-efa6bfd5880b",
   "metadata": {
    "jp-MarkdownHeadingCollapsed": true
   },
   "source": [
    "## Visualize PCA"
   ]
  },
  {
   "cell_type": "code",
   "execution_count": null,
   "id": "d4b3017f-558f-408b-ba33-1afa0ed225c7",
   "metadata": {},
   "outputs": [],
   "source": [
    "def visualize_all(data, dim, labels, names):\n",
    "    for i in range(len(labels)):\n",
    "        visualise_clusters(data,dim,labels[i], names[i])"
   ]
  },
  {
   "cell_type": "code",
   "execution_count": null,
   "id": "f9dca7df-cbbd-4a86-bb32-c06465cc59c4",
   "metadata": {},
   "outputs": [],
   "source": [
    "visualize_all(viz_pca_2d, 2, preds_pca, ['KMeans', 'AgglomerativeClustering', 'HDBSCAN', 'GaussianMixture'])"
   ]
  },
  {
   "cell_type": "code",
   "execution_count": null,
   "id": "96900bcd-3a20-4fc1-9073-dc54e1f5e8cd",
   "metadata": {},
   "outputs": [],
   "source": [
    "visualize_all(viz_pca_3d, 3, preds_pca, ['KMeans', 'AgglomerativeClustering', 'HDBSCAN', 'GaussianMixture'])"
   ]
  },
  {
   "cell_type": "markdown",
   "id": "e34b361d-ef24-4624-a375-eeeacc25e389",
   "metadata": {},
   "source": [
    "## Visualize LLE"
   ]
  },
  {
   "cell_type": "code",
   "execution_count": null,
   "id": "910cf90b-302f-470c-8586-c92bc3936e77",
   "metadata": {},
   "outputs": [],
   "source": [
    "visualize_all(viz_lle_2d, 2, preds_pca, ['KMeans', 'AgglomerativeClustering', 'HDBSCAN', 'GaussianMixture'])"
   ]
  },
  {
   "cell_type": "code",
   "execution_count": null,
   "id": "091349f6-a9fc-4154-8ed9-5f01b34dbf8e",
   "metadata": {},
   "outputs": [],
   "source": [
    "visualize_all(viz_lle_3d, 3, preds_pca, ['KMeans', 'AgglomerativeClustering', 'HDBSCAN', 'GaussianMixture'])"
   ]
  },
  {
   "cell_type": "markdown",
   "id": "1968fffa-2e58-44a7-b93c-719a65c76636",
   "metadata": {},
   "source": [
    "## KMeans Tune"
   ]
  },
  {
   "cell_type": "code",
   "execution_count": null,
   "id": "aa5823ee-badf-4933-8a65-b8556f903dd6",
   "metadata": {},
   "outputs": [],
   "source": [
    "def silhouette_graph(data, min_k, max_k, step):\n",
    "    rez = {}\n",
    "    for i in range(min_k,max_k,step):\n",
    "        km = KMeans(n_clusters=i)\n",
    "        rez[i] = silhouette_score(data, km.fit_predict(data))\n",
    "        print(\"Done: \", i, \"/\", max_k)\n",
    "    df = pd.DataFrame(list(rez.items()), columns=['ClusterCount', 'Silhouette'])\n",
    "    sns.lineplot(x='ClusterCount', y='Silhouette', data=df)\n",
    "\n",
    "silhouette_graph(app_train_pca, 10, 50, 5)"
   ]
  },
  {
   "cell_type": "code",
   "execution_count": null,
   "id": "2864de32-4d5e-48d8-8721-13142f52827e",
   "metadata": {},
   "outputs": [],
   "source": [
    "silhouette_graph(app_train_lle, 10, 50, 5)"
   ]
  },
  {
   "cell_type": "markdown",
   "id": "e955f7a7-707e-4740-ac70-cfe44db6b559",
   "metadata": {},
   "source": [
    "## HDBSCAN"
   ]
  },
  {
   "cell_type": "code",
   "execution_count": null,
   "id": "69fd7e63-4828-4c37-b80d-e7313944c347",
   "metadata": {},
   "outputs": [],
   "source": [
    "algs['HD'].labels_.max()"
   ]
  },
  {
   "cell_type": "code",
   "execution_count": null,
   "id": "3e210261-be68-4645-bcb8-3969fdb57bc3",
   "metadata": {},
   "outputs": [],
   "source": [
    "algs_lle['HD'].labels_.max()"
   ]
  },
  {
   "cell_type": "markdown",
   "id": "7ea016a9-996f-4651-89bb-4be946ca951b",
   "metadata": {},
   "source": [
    "## Agglomerative"
   ]
  },
  {
   "cell_type": "code",
   "execution_count": null,
   "id": "2ef32d4f-9b20-49b9-9c20-036202bdcaba",
   "metadata": {},
   "outputs": [],
   "source": [
    "def plot_dendrogram(model, **kwargs):\n",
    "    # Create linkage matrix and then plot the dendrogram\n",
    "\n",
    "    # create the counts of samples under each node\n",
    "    counts = np.zeros(model.children_.shape[0])\n",
    "    n_samples = len(model.labels_)\n",
    "    for i, merge in enumerate(model.children_):\n",
    "        current_count = 0\n",
    "        for child_idx in merge:\n",
    "            if child_idx < n_samples:\n",
    "                current_count += 1  # leaf node\n",
    "            else:\n",
    "                current_count += counts[child_idx - n_samples]\n",
    "        counts[i] = current_count\n",
    "\n",
    "    linkage_matrix = np.column_stack(\n",
    "        [model.children_, model.distances_, counts]\n",
    "    ).astype(float)\n",
    "\n",
    "    # Plot the corresponding dendrogram\n",
    "    dendrogram(linkage_matrix, **kwargs)"
   ]
  },
  {
   "cell_type": "code",
   "execution_count": null,
   "id": "83e87b3b-15ce-48d6-86d9-5d7354eab166",
   "metadata": {},
   "outputs": [],
   "source": [
    "plt.title(\"Hierarchical Clustering Dendrogram\")\n",
    "plot_dendrogram(algs['AC'], truncate_mode=\"level\", p=3)\n",
    "plt.xlabel(\"Number of points in node (or index of point if no parenthesis).\")\n",
    "plt.show()"
   ]
  },
  {
   "cell_type": "code",
   "execution_count": null,
   "id": "5a4bd5ce-67ab-45c6-925d-ba21486e6139",
   "metadata": {},
   "outputs": [],
   "source": [
    "plt.title(\"Hierarchical Clustering Dendrogram\")\n",
    "plot_dendrogram(algs_lle['AC'], truncate_mode=\"level\", p=3)\n",
    "plt.xlabel(\"Number of points in node (or index of point if no parenthesis).\")\n",
    "plt.show()"
   ]
  },
  {
   "cell_type": "markdown",
   "id": "f7a6e1e3-5d9f-4188-b6af-0f00f6b35352",
   "metadata": {},
   "source": [
    "# Prediction"
   ]
  },
  {
   "cell_type": "code",
   "execution_count": null,
   "id": "c066f828-378e-4f36-bba4-8408771d35e7",
   "metadata": {},
   "outputs": [],
   "source": [
    "from sklearn.ensemble import ExtraTreesClassifier\n",
    "\n",
    "etc = ExtraTreesClassifier(n_estimators = 1000, n_jobs=-1)"
   ]
  },
  {
   "cell_type": "code",
   "execution_count": null,
   "id": "fe211a17-1e51-43cb-a014-0799f15aaef9",
   "metadata": {},
   "outputs": [],
   "source": [
    "preds_pca_T = np.transpose(np.array(preds_pca))\n",
    "preds_lle_T = np.transpose(np.array(preds_lle))"
   ]
  },
  {
   "cell_type": "code",
   "execution_count": null,
   "id": "42d536f6-2ffd-40ad-a7af-67b7c33e34fd",
   "metadata": {},
   "outputs": [],
   "source": [
    "#preds_pca, preds_lle\n",
    "#avg, last\n",
    "k=0.2\n",
    "test_len = k * len(preds_pca_T)\n",
    "train_pca, test_pca = preds_pca_T[test_len:], preds_pca_T[:test_len]\n",
    "train_lle, test_lle = preds_lle_T[test_len:], preds_lle[:test_len]\n",
    "avg_train, avg_test = avg[test_len:], avg[:test_len] \n",
    "last_train, last_test = last[test_len:], last[:test_len] "
   ]
  },
  {
   "cell_type": "code",
   "execution_count": null,
   "id": "116f38e4-6ec2-448a-b6df-f156cae69f02",
   "metadata": {},
   "outputs": [],
   "source": [
    "etc.fit(train_pca, avg_train)\n",
    "print(\"PCA+AVG: \", etc.score(test_pca,avg_test)"
   ]
  },
  {
   "cell_type": "code",
   "execution_count": null,
   "id": "89056322-ab8d-4167-9005-51bd218664e2",
   "metadata": {},
   "outputs": [],
   "source": [
    "etc.fit(train_pca, last_train)\n",
    "print(\"PCA+LAST: \", etc.score(test_pca,last_test)"
   ]
  },
  {
   "cell_type": "code",
   "execution_count": null,
   "id": "244eaaa5-0aa8-476c-9835-6cab87d81294",
   "metadata": {},
   "outputs": [],
   "source": [
    "etc.fit(train_lle, avg_train)\n",
    "print(\"LLE+AVG: \", etc.score(test_lle,avg_test)"
   ]
  },
  {
   "cell_type": "code",
   "execution_count": null,
   "id": "e08cea56-e435-4c54-82da-48e681260959",
   "metadata": {},
   "outputs": [],
   "source": [
    "etc.fit(train_lle, last_train)\n",
    "print(\"LLE+LAST: \", etc.score(test_lle,last_test)"
   ]
  }
 ],
 "metadata": {
  "kernelspec": {
   "display_name": "Python 3 (ipykernel)",
   "language": "python",
   "name": "python3"
  },
  "language_info": {
   "codemirror_mode": {
    "name": "ipython",
    "version": 3
   },
   "file_extension": ".py",
   "mimetype": "text/x-python",
   "name": "python",
   "nbconvert_exporter": "python",
   "pygments_lexer": "ipython3",
   "version": "3.12.1"
  }
 },
 "nbformat": 4,
 "nbformat_minor": 5
}
