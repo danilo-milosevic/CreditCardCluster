{
 "cells": [
  {
   "cell_type": "markdown",
   "id": "a9674f94-60e6-402f-bd6a-182c32edaf26",
   "metadata": {},
   "source": [
    "# Imports"
   ]
  },
  {
   "cell_type": "code",
   "execution_count": 1,
   "id": "6cde6820-0004-4d4a-b2cf-0cb3e67b7c8c",
   "metadata": {},
   "outputs": [],
   "source": []
  },
  {
   "cell_type": "code",
   "execution_count": 42,
   "id": "a2c7a617-d243-4664-9dbc-6e119c66655b",
   "metadata": {},
   "outputs": [],
   "source": [
    "import numpy as np\n",
    "import seaborn as sns\n",
    "import matplotlib.pyplot as plt\n",
    "import csv\n",
    "import pandas as pd\n",
    "from sklearn.preprocessing import LabelEncoder"
   ]
  },
  {
   "cell_type": "markdown",
   "id": "cda99ba5-d025-47ae-85ec-c736359f69ac",
   "metadata": {},
   "source": [
    "# Analiza"
   ]
  },
  {
   "cell_type": "markdown",
   "id": "d562d39e-ea77-4933-8695-a512d14967e1",
   "metadata": {},
   "source": [
    "## Ucitavanje podataka"
   ]
  },
  {
   "cell_type": "code",
   "execution_count": 40,
   "id": "d2133fec-2963-4a15-9f75-15a13c9b101b",
   "metadata": {},
   "outputs": [],
   "source": [
    "def csv_to_pd(path):\n",
    "    return pd.read_csv(path)\n",
    "\n",
    "def pandas_uniques(df, col_name):\n",
    "    counts = df[col_name].value_counts()\n",
    "    unique = df[col_name].unique()\n",
    "    return unique,counts\n",
    "\n",
    "def print_uniques(df, cols, count_per_categ=False):\n",
    "    for c in cols:\n",
    "        print()\n",
    "        print(c)\n",
    "        print(\"-----------------\")\n",
    "        u, b = pandas_uniques(df,c)\n",
    "        print(\"\\tVrednosti: \",u)\n",
    "        print(\"\\tBroj jedinstvenih: \",len(u))\n",
    "    \n",
    "        if not count_per_categ: continue\n",
    "        print(\"\\tJedinstvenih:\")\n",
    "        for i in range(len(b)):\n",
    "            print(\"\\t\",b.iloc[i])"
   ]
  },
  {
   "cell_type": "code",
   "execution_count": 23,
   "id": "b03f0ebe-53da-4c78-bbe2-557dd99017e3",
   "metadata": {},
   "outputs": [],
   "source": [
    "applications = csv_to_pd(\"./data/application_record.csv\")\n",
    "credits = csv_to_pd(\"./data/credit_record.csv\")"
   ]
  },
  {
   "cell_type": "code",
   "execution_count": 24,
   "id": "b14793c1-5895-4392-9fc0-2c1c8ab14a85",
   "metadata": {},
   "outputs": [
    {
     "name": "stdout",
     "output_type": "stream",
     "text": [
      "<class 'pandas.core.frame.DataFrame'>\n",
      "RangeIndex: 438557 entries, 0 to 438556\n",
      "Data columns (total 18 columns):\n",
      " #   Column               Non-Null Count   Dtype  \n",
      "---  ------               --------------   -----  \n",
      " 0   ID                   438557 non-null  int64  \n",
      " 1   CODE_GENDER          438557 non-null  object \n",
      " 2   FLAG_OWN_CAR         438557 non-null  object \n",
      " 3   FLAG_OWN_REALTY      438557 non-null  object \n",
      " 4   CNT_CHILDREN         438557 non-null  int64  \n",
      " 5   AMT_INCOME_TOTAL     438557 non-null  float64\n",
      " 6   NAME_INCOME_TYPE     438557 non-null  object \n",
      " 7   NAME_EDUCATION_TYPE  438557 non-null  object \n",
      " 8   NAME_FAMILY_STATUS   438557 non-null  object \n",
      " 9   NAME_HOUSING_TYPE    438557 non-null  object \n",
      " 10  DAYS_BIRTH           438557 non-null  int64  \n",
      " 11  DAYS_EMPLOYED        438557 non-null  int64  \n",
      " 12  FLAG_MOBIL           438557 non-null  int64  \n",
      " 13  FLAG_WORK_PHONE      438557 non-null  int64  \n",
      " 14  FLAG_PHONE           438557 non-null  int64  \n",
      " 15  FLAG_EMAIL           438557 non-null  int64  \n",
      " 16  OCCUPATION_TYPE      304354 non-null  object \n",
      " 17  CNT_FAM_MEMBERS      438557 non-null  float64\n",
      "dtypes: float64(2), int64(8), object(8)\n",
      "memory usage: 60.2+ MB\n"
     ]
    }
   ],
   "source": [
    "applications.info()"
   ]
  },
  {
   "cell_type": "code",
   "execution_count": 64,
   "id": "39db0644-d3db-4e78-a5d8-e9eaa2ad8818",
   "metadata": {},
   "outputs": [
    {
     "name": "stdout",
     "output_type": "stream",
     "text": [
      "\n",
      "CODE_GENDER\n",
      "-----------------\n",
      "\tVrednosti:  ['M' 'F']\n",
      "\tBroj jedinstvenih:  2\n",
      "\n",
      "FLAG_OWN_CAR\n",
      "-----------------\n",
      "\tVrednosti:  ['Y' 'N']\n",
      "\tBroj jedinstvenih:  2\n",
      "\n",
      "FLAG_OWN_REALTY\n",
      "-----------------\n",
      "\tVrednosti:  ['Y' 'N']\n",
      "\tBroj jedinstvenih:  2\n",
      "\n",
      "NAME_INCOME_TYPE\n",
      "-----------------\n",
      "\tVrednosti:  ['Working' 'Commercial associate' 'Pensioner' 'State servant' 'Student']\n",
      "\tBroj jedinstvenih:  5\n",
      "\n",
      "NAME_EDUCATION_TYPE\n",
      "-----------------\n",
      "\tVrednosti:  ['Higher education' 'Secondary / secondary special' 'Incomplete higher'\n",
      " 'Lower secondary' 'Academic degree']\n",
      "\tBroj jedinstvenih:  5\n",
      "\n",
      "NAME_FAMILY_STATUS\n",
      "-----------------\n",
      "\tVrednosti:  ['Civil marriage' 'Married' 'Single / not married' 'Separated' 'Widow']\n",
      "\tBroj jedinstvenih:  5\n",
      "\n",
      "NAME_HOUSING_TYPE\n",
      "-----------------\n",
      "\tVrednosti:  ['Rented apartment' 'House / apartment' 'Municipal apartment'\n",
      " 'With parents' 'Co-op apartment' 'Office apartment']\n",
      "\tBroj jedinstvenih:  6\n",
      "\n",
      "OCCUPATION_TYPE\n",
      "-----------------\n",
      "\tVrednosti:  [nan 'Security staff' 'Sales staff' 'Accountants' 'Laborers' 'Managers'\n",
      " 'Drivers' 'Core staff' 'High skill tech staff' 'Cleaning staff'\n",
      " 'Private service staff' 'Cooking staff' 'Low-skill Laborers'\n",
      " 'Medicine staff' 'Secretaries' 'Waiters/barmen staff' 'HR staff'\n",
      " 'Realty agents' 'IT staff']\n",
      "\tBroj jedinstvenih:  19\n"
     ]
    }
   ],
   "source": [
    "cols = ['CODE_GENDER','FLAG_OWN_CAR','FLAG_OWN_REALTY', 'NAME_INCOME_TYPE', 'NAME_EDUCATION_TYPE', 'NAME_FAMILY_STATUS',\\\n",
    "        'NAME_HOUSING_TYPE', 'OCCUPATION_TYPE']\\\n",
    "\n",
    "print_uniques(applications,cols)"
   ]
  },
  {
   "cell_type": "code",
   "execution_count": 18,
   "id": "bade08a5-3f3d-48b9-a9aa-969b9b0ebdce",
   "metadata": {
    "scrolled": true
   },
   "outputs": [
    {
     "name": "stdout",
     "output_type": "stream",
     "text": [
      "<class 'pandas.core.frame.DataFrame'>\n",
      "RangeIndex: 1048575 entries, 0 to 1048574\n",
      "Data columns (total 3 columns):\n",
      " #   Column          Non-Null Count    Dtype \n",
      "---  ------          --------------    ----- \n",
      " 0   ID              1048575 non-null  int64 \n",
      " 1   MONTHS_BALANCE  1048575 non-null  int64 \n",
      " 2   STATUS          1048575 non-null  object\n",
      "dtypes: int64(2), object(1)\n",
      "memory usage: 24.0+ MB\n"
     ]
    }
   ],
   "source": [
    "credits.info()"
   ]
  },
  {
   "cell_type": "code",
   "execution_count": 41,
   "id": "4b9b2a67-449b-4757-a89c-44062aefb00c",
   "metadata": {},
   "outputs": [
    {
     "name": "stdout",
     "output_type": "stream",
     "text": [
      "\n",
      "STATUS\n",
      "-----------------\n",
      "\tVrednosti:  ['X' '0' 'C' '1' '2' '3' '4' '5']\n",
      "\tBroj jedinstvenih:  8\n"
     ]
    }
   ],
   "source": [
    "cols = ['STATUS']\n",
    "print_uniques(credits,cols)"
   ]
  },
  {
   "cell_type": "markdown",
   "id": "5823f26c-642b-444e-bc4b-25e6f2f1c470",
   "metadata": {},
   "source": [
    "## Enkodiranje"
   ]
  },
  {
   "cell_type": "code",
   "execution_count": 57,
   "id": "a249b525-77f5-4259-9464-9da1cb5fcdfc",
   "metadata": {},
   "outputs": [],
   "source": [
    "def encode_column(df, col_spec):\n",
    "    df_enc = df.copy()\n",
    "    for (c, is_one_hot) in col_spec:\n",
    "        if is_one_hot:\n",
    "            df_enc = pd.get_dummies(df_enc, columns=[c], dtype=int)\n",
    "            continue\n",
    "        le = LabelEncoder()\n",
    "        le.fit(df_enc[c])\n",
    "        df_enc[c] = le.transform(df_enc[c])\n",
    "    return df_enc"
   ]
  },
  {
   "cell_type": "code",
   "execution_count": 58,
   "id": "241508c7-06f3-481e-a977-21ab627bdc74",
   "metadata": {},
   "outputs": [],
   "source": [
    "cols = [('CODE_GENDER',False),\\\n",
    "        ('FLAG_OWN_CAR',False),\\\n",
    "        ('FLAG_OWN_REALTY',False),\\\n",
    "        ('NAME_INCOME_TYPE', True),\\\n",
    "        ('NAME_EDUCATION_TYPE',False),\\\n",
    "        ('NAME_FAMILY_STATUS',True),\\\n",
    "        ('NAME_HOUSING_TYPE',True), ('OCCUPATION_TYPE',True)]\n",
    "\n",
    "app_enc = encode_column(applications, cols)"
   ]
  },
  {
   "cell_type": "code",
   "execution_count": 60,
   "id": "2879ccd7-6326-45ff-a5d2-fd0d3ae45cf2",
   "metadata": {},
   "outputs": [
    {
     "name": "stdout",
     "output_type": "stream",
     "text": [
      "<class 'pandas.core.frame.DataFrame'>\n",
      "RangeIndex: 438557 entries, 0 to 438556\n",
      "Data columns (total 48 columns):\n",
      " #   Column                                   Non-Null Count   Dtype  \n",
      "---  ------                                   --------------   -----  \n",
      " 0   ID                                       438557 non-null  int64  \n",
      " 1   CODE_GENDER                              438557 non-null  int32  \n",
      " 2   FLAG_OWN_CAR                             438557 non-null  int32  \n",
      " 3   FLAG_OWN_REALTY                          438557 non-null  int32  \n",
      " 4   CNT_CHILDREN                             438557 non-null  int64  \n",
      " 5   AMT_INCOME_TOTAL                         438557 non-null  float64\n",
      " 6   NAME_EDUCATION_TYPE                      438557 non-null  int32  \n",
      " 7   DAYS_BIRTH                               438557 non-null  int64  \n",
      " 8   DAYS_EMPLOYED                            438557 non-null  int64  \n",
      " 9   FLAG_MOBIL                               438557 non-null  int64  \n",
      " 10  FLAG_WORK_PHONE                          438557 non-null  int64  \n",
      " 11  FLAG_PHONE                               438557 non-null  int64  \n",
      " 12  FLAG_EMAIL                               438557 non-null  int64  \n",
      " 13  CNT_FAM_MEMBERS                          438557 non-null  float64\n",
      " 14  NAME_INCOME_TYPE_Commercial associate    438557 non-null  int32  \n",
      " 15  NAME_INCOME_TYPE_Pensioner               438557 non-null  int32  \n",
      " 16  NAME_INCOME_TYPE_State servant           438557 non-null  int32  \n",
      " 17  NAME_INCOME_TYPE_Student                 438557 non-null  int32  \n",
      " 18  NAME_INCOME_TYPE_Working                 438557 non-null  int32  \n",
      " 19  NAME_FAMILY_STATUS_Civil marriage        438557 non-null  int32  \n",
      " 20  NAME_FAMILY_STATUS_Married               438557 non-null  int32  \n",
      " 21  NAME_FAMILY_STATUS_Separated             438557 non-null  int32  \n",
      " 22  NAME_FAMILY_STATUS_Single / not married  438557 non-null  int32  \n",
      " 23  NAME_FAMILY_STATUS_Widow                 438557 non-null  int32  \n",
      " 24  NAME_HOUSING_TYPE_Co-op apartment        438557 non-null  int32  \n",
      " 25  NAME_HOUSING_TYPE_House / apartment      438557 non-null  int32  \n",
      " 26  NAME_HOUSING_TYPE_Municipal apartment    438557 non-null  int32  \n",
      " 27  NAME_HOUSING_TYPE_Office apartment       438557 non-null  int32  \n",
      " 28  NAME_HOUSING_TYPE_Rented apartment       438557 non-null  int32  \n",
      " 29  NAME_HOUSING_TYPE_With parents           438557 non-null  int32  \n",
      " 30  OCCUPATION_TYPE_Accountants              438557 non-null  int32  \n",
      " 31  OCCUPATION_TYPE_Cleaning staff           438557 non-null  int32  \n",
      " 32  OCCUPATION_TYPE_Cooking staff            438557 non-null  int32  \n",
      " 33  OCCUPATION_TYPE_Core staff               438557 non-null  int32  \n",
      " 34  OCCUPATION_TYPE_Drivers                  438557 non-null  int32  \n",
      " 35  OCCUPATION_TYPE_HR staff                 438557 non-null  int32  \n",
      " 36  OCCUPATION_TYPE_High skill tech staff    438557 non-null  int32  \n",
      " 37  OCCUPATION_TYPE_IT staff                 438557 non-null  int32  \n",
      " 38  OCCUPATION_TYPE_Laborers                 438557 non-null  int32  \n",
      " 39  OCCUPATION_TYPE_Low-skill Laborers       438557 non-null  int32  \n",
      " 40  OCCUPATION_TYPE_Managers                 438557 non-null  int32  \n",
      " 41  OCCUPATION_TYPE_Medicine staff           438557 non-null  int32  \n",
      " 42  OCCUPATION_TYPE_Private service staff    438557 non-null  int32  \n",
      " 43  OCCUPATION_TYPE_Realty agents            438557 non-null  int32  \n",
      " 44  OCCUPATION_TYPE_Sales staff              438557 non-null  int32  \n",
      " 45  OCCUPATION_TYPE_Secretaries              438557 non-null  int32  \n",
      " 46  OCCUPATION_TYPE_Security staff           438557 non-null  int32  \n",
      " 47  OCCUPATION_TYPE_Waiters/barmen staff     438557 non-null  int32  \n",
      "dtypes: float64(2), int32(38), int64(8)\n",
      "memory usage: 97.0 MB\n"
     ]
    }
   ],
   "source": [
    "app_enc.info()"
   ]
  },
  {
   "cell_type": "markdown",
   "id": "26f0fcd8-8f89-473a-8117-41689ebb4cf5",
   "metadata": {},
   "source": [
    "## Prikaz"
   ]
  },
  {
   "cell_type": "code",
   "execution_count": 66,
   "id": "a7081495-f1ab-4167-afc0-1acdbbbb38f3",
   "metadata": {},
   "outputs": [],
   "source": [
    "def plot_sub(data, axes, i, j, bins, color,title=None):\n",
    "    m = np.mean(data)\n",
    "    v = np.var(data)\n",
    "    sns.histplot(data = data, bins = bins, ax = axes[i,j], color=color, legend=False)\n",
    "    axes[i,j].axvline(m, color='red', linestyle='dashed', linewidth=2, label=f'Mean: {m:.2f}')\n",
    "    axes[i,j].axvline(m - np.sqrt(v), color='green', linestyle='dashed', linewidth=2, label=f'-1 SD')\n",
    "    axes[i,j].axvline(m + np.sqrt(v), color='green', linestyle='dashed', linewidth=2, label=f'+1 SD')\n",
    "\n",
    "    if not title is None:\n",
    "        axes[i,j].set_title(title)\n",
    "\n",
    "def plot_features(X):\n",
    "    X_t = X.copy()\n",
    "    w = int(len(X_t)**0.5)\n",
    "    h = len(X_t)//w\n",
    "    if len(X_t)%w !=0:\n",
    "        h+=1\n",
    "    fig, axes = plt.subplots(h, w, figsize = (30,30))\n",
    "    for i in range(h):\n",
    "        for j in range(w):\n",
    "            ind = i*w + j\n",
    "            plot_sub(X_t[ind], axes, i, j, 50, 'steelblue')\n",
    "    plt.tight_layout()\n",
    "    plt.show()"
   ]
  },
  {
   "cell_type": "code",
   "execution_count": null,
   "id": "bbe244a6-e5f0-4c9f-953d-aa5dbdf2374a",
   "metadata": {},
   "outputs": [
    {
     "name": "stderr",
     "output_type": "stream",
     "text": [
      "\n",
      "KeyboardInterrupt\n",
      "\n"
     ]
    },
    {
     "name": "stdout",
     "output_type": "stream",
     "text": [
      "Error in callback <function _draw_all_if_interactive at 0x0000026D46912FC0> (for post_execute), with arguments args (),kwargs {}:\n"
     ]
    },
    {
     "name": "stderr",
     "output_type": "stream",
     "text": [
      "\n",
      "KeyboardInterrupt\n",
      "\n"
     ]
    }
   ],
   "source": [
    "to_disp = app_enc['CNT_CHILDREN']\n",
    "plot_features(app_enc)"
   ]
  },
  {
   "cell_type": "code",
   "execution_count": null,
   "id": "d83e2aee-b624-40d2-a2a1-5ba448beee6f",
   "metadata": {},
   "outputs": [],
   "source": []
  }
 ],
 "metadata": {
  "kernelspec": {
   "display_name": "Python 3 (ipykernel)",
   "language": "python",
   "name": "python3"
  },
  "language_info": {
   "codemirror_mode": {
    "name": "ipython",
    "version": 3
   },
   "file_extension": ".py",
   "mimetype": "text/x-python",
   "name": "python",
   "nbconvert_exporter": "python",
   "pygments_lexer": "ipython3",
   "version": "3.12.1"
  }
 },
 "nbformat": 4,
 "nbformat_minor": 5
}
